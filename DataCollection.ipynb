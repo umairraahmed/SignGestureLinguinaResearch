{
 "cells": [
  {
   "cell_type": "markdown",
   "metadata": {},
   "source": [
    "# 1. Import Dependencies"
   ]
  },
  {
   "cell_type": "code",
   "execution_count": 1,
   "metadata": {},
   "outputs": [
    {
     "name": "stdout",
     "output_type": "stream",
     "text": [
      "Requirement already satisfied: opencv-python in c:\\users\\umair\\tensorflow gesture rec\\tfgr\\tfgr\\lib\\site-packages (4.8.1.78)\n",
      "Requirement already satisfied: numpy>=1.17.0 in c:\\users\\umair\\tensorflow gesture rec\\tfgr\\tfgr\\lib\\site-packages (from opencv-python) (1.24.3)\n"
     ]
    }
   ],
   "source": [
    "!pip install opencv-python"
   ]
  },
  {
   "cell_type": "code",
   "execution_count": 2,
   "metadata": {},
   "outputs": [],
   "source": [
    "# Import opencv\n",
    "import cv2 \n",
    "\n",
    "# Import uuid\n",
    "import uuid\n",
    "\n",
    "# Import Operating System\n",
    "import os\n",
    "\n",
    "# Import time\n",
    "import time"
   ]
  },
  {
   "cell_type": "markdown",
   "metadata": {},
   "source": [
    "# 2. Define Images to Collect"
   ]
  },
  {
   "cell_type": "code",
   "execution_count": 169,
   "metadata": {},
   "outputs": [],
   "source": [
    "labels = ['Z']\n",
    "number_imgs = 7"
   ]
  },
  {
   "cell_type": "code",
   "execution_count": 170,
   "metadata": {},
   "outputs": [
    {
     "data": {
      "text/plain": [
       "list"
      ]
     },
     "execution_count": 170,
     "metadata": {},
     "output_type": "execute_result"
    }
   ],
   "source": [
    "type(labels)"
   ]
  },
  {
   "cell_type": "markdown",
   "metadata": {},
   "source": [
    "# 3. Setup Folders "
   ]
  },
  {
   "cell_type": "code",
   "execution_count": 171,
   "metadata": {},
   "outputs": [],
   "source": [
    "IMAGES_PATH = os.path.join('Tensorflow', 'workspace', 'images', 'collectedimages')"
   ]
  },
  {
   "cell_type": "code",
   "execution_count": 172,
   "metadata": {},
   "outputs": [
    {
     "name": "stdout",
     "output_type": "stream",
     "text": [
      "Tensorflow\\workspace\\images\\collectedimages\n"
     ]
    }
   ],
   "source": [
    "print (IMAGES_PATH)"
   ]
  },
  {
   "cell_type": "code",
   "execution_count": 4,
   "metadata": {},
   "outputs": [
    {
     "ename": "NameError",
     "evalue": "name 'os' is not defined",
     "output_type": "error",
     "traceback": [
      "\u001b[1;31m---------------------------------------------------------------------------\u001b[0m",
      "\u001b[1;31mNameError\u001b[0m                                 Traceback (most recent call last)",
      "Cell \u001b[1;32mIn[4], line 1\u001b[0m\n\u001b[1;32m----> 1\u001b[0m \u001b[43mos\u001b[49m\u001b[38;5;241m.\u001b[39mname\n",
      "\u001b[1;31mNameError\u001b[0m: name 'os' is not defined"
     ]
    }
   ],
   "source": [
    "os.name"
   ]
  },
  {
   "cell_type": "code",
   "execution_count": 174,
   "metadata": {},
   "outputs": [],
   "source": [
    "if not os.path.exists(IMAGES_PATH):\n",
    "    if os.name == 'posix':\n",
    "        !mkdir -p {IMAGES_PATH}\n",
    "    if os.name == 'nt':\n",
    "         !mkdir {IMAGES_PATH}\n",
    "for label in labels:\n",
    "    path = os.path.join(IMAGES_PATH, label)\n",
    "    if not os.path.exists(path):\n",
    "        !mkdir {path}"
   ]
  },
  {
   "cell_type": "markdown",
   "metadata": {},
   "source": [
    "# 4. Capture Images"
   ]
  },
  {
   "cell_type": "code",
   "execution_count": 175,
   "metadata": {},
   "outputs": [
    {
     "name": "stdout",
     "output_type": "stream",
     "text": [
      "Collecting images for Z\n",
      "Collecting image 0\n",
      "Collecting image 1\n",
      "Collecting image 2\n",
      "Collecting image 3\n",
      "Collecting image 4\n",
      "Collecting image 5\n",
      "Collecting image 6\n"
     ]
    }
   ],
   "source": [
    "for label in labels:\n",
    "    cap = cv2.VideoCapture(0)\n",
    "    print('Collecting images for {}'.format(label))\n",
    "    time.sleep(5)\n",
    "    for imgnum in range(number_imgs):\n",
    "        print('Collecting image {}'.format(imgnum))\n",
    "        ret, frame = cap.read()\n",
    "        imgname = os.path.join(IMAGES_PATH,label,label+'.'+'{}.jpg'.format(str(uuid.uuid1())))\n",
    "        cv2.imwrite(imgname, frame)\n",
    "        cv2.imshow('frame', frame)\n",
    "        time.sleep(2)\n",
    "\n",
    "        if cv2.waitKey(1) & 0xFF == ord('q'):\n",
    "            break\n",
    "cap.release()\n",
    "cv2.destroyAllWindows()"
   ]
  },
  {
   "cell_type": "markdown",
   "metadata": {},
   "source": [
    "# 5. Image Labelling"
   ]
  },
  {
   "cell_type": "code",
   "execution_count": 3,
   "metadata": {},
   "outputs": [
    {
     "name": "stdout",
     "output_type": "stream",
     "text": [
      "Requirement already satisfied: pyqt5 in c:\\users\\umair\\tensorflow gesture rec\\tfgr\\tfgr\\lib\\site-packages (5.15.10)\n",
      "Requirement already satisfied: lxml in c:\\users\\umair\\tensorflow gesture rec\\tfgr\\tfgr\\lib\\site-packages (4.9.3)\n",
      "Requirement already satisfied: PyQt5-sip<13,>=12.13 in c:\\users\\umair\\tensorflow gesture rec\\tfgr\\tfgr\\lib\\site-packages (from pyqt5) (12.13.0)\n",
      "Requirement already satisfied: PyQt5-Qt5>=5.15.2 in c:\\users\\umair\\tensorflow gesture rec\\tfgr\\tfgr\\lib\\site-packages (from pyqt5) (5.15.2)\n"
     ]
    }
   ],
   "source": [
    "!pip install --upgrade pyqt5 lxml"
   ]
  },
  {
   "cell_type": "code",
   "execution_count": 4,
   "metadata": {},
   "outputs": [
    {
     "name": "stdout",
     "output_type": "stream",
     "text": [
      "Package                      Version             Editable project location\n",
      "---------------------------- ------------------- --------------------------------------------------------------------------\n",
      "absl-py                      2.0.0\n",
      "apache-beam                  2.52.0\n",
      "asttokens                    2.4.1\n",
      "astunparse                   1.6.3\n",
      "avro-python3                 1.10.2\n",
      "backcall                     0.2.0\n",
      "cachetools                   5.3.2\n",
      "certifi                      2023.11.17\n",
      "charset-normalizer           3.3.2\n",
      "colorama                     0.4.6\n",
      "comm                         0.2.0\n",
      "contextlib2                  21.6.0\n",
      "cycler                       0.12.1\n",
      "Cython                       3.0.5\n",
      "debugpy                      1.8.0\n",
      "decorator                    5.1.1\n",
      "executing                    2.0.1\n",
      "flatbuffers                  23.5.26\n",
      "gast                         0.3.3\n",
      "gin                          0.1.6\n",
      "gin-config                   0.5.0\n",
      "google-auth                  2.23.4\n",
      "google-auth-oauthlib         0.4.6\n",
      "google-pasta                 0.2.0\n",
      "grpcio                       1.59.3\n",
      "h5py                         2.10.0\n",
      "idna                         3.4\n",
      "importlib-metadata           6.8.0\n",
      "importlib-resources          6.1.1\n",
      "ipykernel                    6.27.0\n",
      "ipython                      8.12.3\n",
      "jedi                         0.19.1\n",
      "jupyter_client               8.6.0\n",
      "jupyter_core                 5.5.0\n",
      "keras                        2.10.0\n",
      "keras-nightly                2.5.0.dev2021032900\n",
      "Keras-Preprocessing          1.1.2\n",
      "kiwisolver                   1.4.5\n",
      "libclang                     16.0.6\n",
      "lvis                         0.5.3\n",
      "lxml                         4.9.3\n",
      "Markdown                     3.5.1\n",
      "MarkupSafe                   2.1.3\n",
      "matplotlib                   3.8.2\n",
      "matplotlib-inline            0.1.6\n",
      "ml-dtypes                    0.2.0\n",
      "nest-asyncio                 1.5.8\n",
      "numpy                        1.24.3\n",
      "oauthlib                     3.2.2\n",
      "object-detection             0.1\n",
      "opencv-python                4.8.1.78\n",
      "opt-einsum                   3.3.0\n",
      "packaging                    23.2\n",
      "pandas                       2.1.3\n",
      "parso                        0.8.3\n",
      "pickleshare                  0.7.5\n",
      "Pillow                       10.1.0\n",
      "pip                          23.3.2\n",
      "platformdirs                 4.0.0\n",
      "portalocker                  2.8.2\n",
      "prompt-toolkit               3.0.41\n",
      "protobuf                     3.19.6\n",
      "psutil                       5.9.6\n",
      "pure-eval                    0.2.2\n",
      "pyasn1                       0.5.1\n",
      "pyasn1-modules               0.3.0\n",
      "pycocotools                  2.0.7\n",
      "Pygments                     2.17.2\n",
      "pyparsing                    2.4.7\n",
      "PyQt5                        5.15.10\n",
      "PyQt5-Qt5                    5.15.2\n",
      "PyQt5-sip                    12.13.0\n",
      "python-dateutil              2.8.2\n",
      "pytz                         2023.3.post1\n",
      "pywin32                      306\n",
      "PyYAML                       6.0.1\n",
      "pyzmq                        25.1.1\n",
      "regex                        2023.10.3\n",
      "requests                     2.31.0\n",
      "requests-oauthlib            1.3.1\n",
      "rsa                          4.9\n",
      "sacrebleu                    2.2.0\n",
      "scipy                        1.11.4\n",
      "setuptools                   58.1.0\n",
      "six                          1.15.0\n",
      "slim                         0.1                 c:\\users\\umair\\tensorflow gesture rec\\tfgr\\tensorflow\\models\\research\\slim\n",
      "stack-data                   0.6.3\n",
      "tabulate                     0.9.0\n",
      "tensorboard                  2.10.1\n",
      "tensorboard-data-server      0.6.1\n",
      "tensorboard-plugin-wit       1.8.1\n",
      "tensorflow                   2.15.0\n",
      "tensorflow-cpu               2.10.0\n",
      "tensorflow-estimator         2.10.0\n",
      "tensorflow-gpu               2.10.0\n",
      "tensorflow_intel             2.10.0\n",
      "tensorflow-io                0.31.0\n",
      "tensorflow-io-gcs-filesystem 0.31.0\n",
      "termcolor                    1.1.0\n",
      "tf-models-official           2.15.0\n",
      "tf-slim                      1.1.0\n",
      "tornado                      6.3.3\n",
      "traitlets                    5.13.0\n",
      "typing-extensions            3.7.4.3\n",
      "urllib3                      2.1.0\n",
      "wcwidth                      0.2.12\n",
      "Werkzeug                     3.0.1\n",
      "wget                         3.2\n",
      "wheel                        0.41.3\n",
      "wrapt                        1.12.1\n",
      "zipp                         3.17.0\n"
     ]
    }
   ],
   "source": [
    "!pip list"
   ]
  },
  {
   "cell_type": "code",
   "execution_count": 5,
   "metadata": {},
   "outputs": [],
   "source": [
    "LABELIMG_PATH = os.path.join('Tensorflow', 'labelimg')"
   ]
  },
  {
   "cell_type": "code",
   "execution_count": 64,
   "metadata": {},
   "outputs": [
    {
     "name": "stderr",
     "output_type": "stream",
     "text": [
      "Cloning into 'Tensorflow\\labelimg'...\n",
      "error: RPC failed; curl 92 HTTP/2 stream 5 was not closed cleanly: CANCEL (err 8)\n",
      "error: 9525 bytes of body are still expected\n",
      "fetch-pack: unexpected disconnect while reading sideband packet\n",
      "fatal: early EOF\n",
      "fatal: fetch-pack: invalid index-pack output\n"
     ]
    }
   ],
   "source": [
    "if not os.path.exists(LABELIMG_PATH):\n",
    "    !mkdir {LABELIMG_PATH}\n",
    "    !git clone https://github.com/tzutalin/labelImg {LABELIMG_PATH}"
   ]
  },
  {
   "cell_type": "code",
   "execution_count": 6,
   "metadata": {
    "scrolled": true
   },
   "outputs": [
    {
     "data": {
      "text/plain": [
       "'Tensorflow\\\\labelimg'"
      ]
     },
     "execution_count": 6,
     "metadata": {},
     "output_type": "execute_result"
    }
   ],
   "source": [
    "LABELIMG_PATH"
   ]
  },
  {
   "cell_type": "code",
   "execution_count": 7,
   "metadata": {},
   "outputs": [],
   "source": [
    "if os.name == 'posix':\n",
    "    !cd {LABELIMG_PATH} && !make qt5py3\n",
    "if os.name =='nt':\n",
    "    !cd {LABELIMG_PATH} && pyrcc5 -o libs/resources.py resources.qrc"
   ]
  },
  {
   "cell_type": "code",
   "execution_count": null,
   "metadata": {},
   "outputs": [],
   "source": [
    "!pip install --upgrade pip"
   ]
  },
  {
   "cell_type": "code",
   "execution_count": 10,
   "metadata": {},
   "outputs": [
    {
     "name": "stdout",
     "output_type": "stream",
     "text": [
      "Image:C:\\Users\\umair\\Tensorflow Gesture Rec\\TFGR\\Tensorflow\\workspace\\images\\collectedimages\\A\\A.7aa071c5-9daa-11ee-b2b3-d18594d139c0.jpg -> Annotation:C:/Users/umair/Tensorflow Gesture Rec/TFGR/Tensorflow/workspace/images/collectedimages\\A.7aa071c5-9daa-11ee-b2b3-d18594d139c0.xml\n",
      "Image:C:\\Users\\umair\\Tensorflow Gesture Rec\\TFGR\\Tensorflow\\workspace\\images\\collectedimages\\A\\A.7aa071c5-9daa-11ee-b2b3-d18594d139c0.jpg -> Annotation:C:/Users/umair/Tensorflow Gesture Rec/TFGR/Tensorflow/workspace/images/collectedimages/A/A.7aa071c5-9daa-11ee-b2b3-d18594d139c0.xml\n",
      "Image:C:\\Users\\umair\\Tensorflow Gesture Rec\\TFGR\\Tensorflow\\workspace\\images\\collectedimages\\A\\A.7bdbd68c-9daa-11ee-85d4-d18594d139c0.jpg -> Annotation:C:/Users/umair/Tensorflow Gesture Rec/TFGR/Tensorflow/workspace/images/collectedimages/A\\A.7bdbd68c-9daa-11ee-85d4-d18594d139c0.xml\n",
      "Image:C:\\Users\\umair\\Tensorflow Gesture Rec\\TFGR\\Tensorflow\\workspace\\images\\collectedimages\\A\\A.7d144ae9-9daa-11ee-b01a-d18594d139c0.jpg -> Annotation:C:/Users/umair/Tensorflow Gesture Rec/TFGR/Tensorflow/workspace/images/collectedimages/A\\A.7d144ae9-9daa-11ee-b01a-d18594d139c0.xml\n",
      "Image:C:\\Users\\umair\\Tensorflow Gesture Rec\\TFGR\\Tensorflow\\workspace\\images\\collectedimages\\A\\A.7e4bb118-9daa-11ee-8def-d18594d139c0.jpg -> Annotation:C:/Users/umair/Tensorflow Gesture Rec/TFGR/Tensorflow/workspace/images/collectedimages/A\\A.7e4bb118-9daa-11ee-8def-d18594d139c0.xml\n",
      "Image:C:\\Users\\umair\\Tensorflow Gesture Rec\\TFGR\\Tensorflow\\workspace\\images\\collectedimages\\A\\A.7f837368-9daa-11ee-8111-d18594d139c0.jpg -> Annotation:C:/Users/umair/Tensorflow Gesture Rec/TFGR/Tensorflow/workspace/images/collectedimages/A\\A.7f837368-9daa-11ee-8111-d18594d139c0.xml\n",
      "Image:C:\\Users\\umair\\Tensorflow Gesture Rec\\TFGR\\Tensorflow\\workspace\\images\\collectedimages\\A\\A.795ebf5e-9daa-11ee-adee-d18594d139c0.jpg -> Annotation:C:/Users/umair/Tensorflow Gesture Rec/TFGR/Tensorflow/workspace/images/collectedimages/A\\A.795ebf5e-9daa-11ee-adee-d18594d139c0.xml\n",
      "Image:C:\\Users\\umair\\Tensorflow Gesture Rec\\TFGR\\Tensorflow\\workspace\\images\\collectedimages\\A\\A.78106d56-9daa-11ee-b4cc-d18594d139c0.jpg -> Annotation:C:/Users/umair/Tensorflow Gesture Rec/TFGR/Tensorflow/workspace/images/collectedimages/A\\A.78106d56-9daa-11ee-b4cc-d18594d139c0.xml\n",
      "Image:C:\\Users\\umair\\Tensorflow Gesture Rec\\TFGR\\Tensorflow\\workspace\\images\\collectedimages\\B\\B.8b1c803e-9daa-11ee-8d8c-d18594d139c0.jpg -> Annotation:C:/Users/umair/Tensorflow Gesture Rec/TFGR/Tensorflow/workspace/images/collectedimages/B\\B.8b1c803e-9daa-11ee-8d8c-d18594d139c0.xml\n",
      "Image:C:\\Users\\umair\\Tensorflow Gesture Rec\\TFGR\\Tensorflow\\workspace\\images\\collectedimages\\B\\B.83cf1924-9daa-11ee-b098-d18594d139c0.jpg -> Annotation:C:/Users/umair/Tensorflow Gesture Rec/TFGR/Tensorflow/workspace/images/collectedimages/B\\B.83cf1924-9daa-11ee-b098-d18594d139c0.xml\n",
      "Image:C:\\Users\\umair\\Tensorflow Gesture Rec\\TFGR\\Tensorflow\\workspace\\images\\collectedimages\\B\\B.88ae6daf-9daa-11ee-8a5c-d18594d139c0.jpg -> Annotation:C:/Users/umair/Tensorflow Gesture Rec/TFGR/Tensorflow/workspace/images/collectedimages/B\\B.88ae6daf-9daa-11ee-8a5c-d18594d139c0.xml\n",
      "Image:C:\\Users\\umair\\Tensorflow Gesture Rec\\TFGR\\Tensorflow\\workspace\\images\\collectedimages\\B\\B.89e6b53b-9daa-11ee-acf6-d18594d139c0.jpg -> Annotation:C:/Users/umair/Tensorflow Gesture Rec/TFGR/Tensorflow/workspace/images/collectedimages/B\\B.89e6b53b-9daa-11ee-acf6-d18594d139c0.xml\n",
      "Image:C:\\Users\\umair\\Tensorflow Gesture Rec\\TFGR\\Tensorflow\\workspace\\images\\collectedimages\\B\\B.863e1bf4-9daa-11ee-80cc-d18594d139c0.jpg -> Annotation:C:/Users/umair/Tensorflow Gesture Rec/TFGR/Tensorflow/workspace/images/collectedimages/B\\B.863e1bf4-9daa-11ee-80cc-d18594d139c0.xml\n",
      "Image:C:\\Users\\umair\\Tensorflow Gesture Rec\\TFGR\\Tensorflow\\workspace\\images\\collectedimages\\B\\B.85058c0d-9daa-11ee-b53d-d18594d139c0.jpg -> Annotation:C:/Users/umair/Tensorflow Gesture Rec/TFGR/Tensorflow/workspace/images/collectedimages/B\\B.85058c0d-9daa-11ee-b53d-d18594d139c0.xml\n",
      "Image:C:\\Users\\umair\\Tensorflow Gesture Rec\\TFGR\\Tensorflow\\workspace\\images\\collectedimages\\B\\B.87755d26-9daa-11ee-8f51-d18594d139c0.jpg -> Annotation:C:/Users/umair/Tensorflow Gesture Rec/TFGR/Tensorflow/workspace/images/collectedimages/B\\B.87755d26-9daa-11ee-8f51-d18594d139c0.xml\n",
      "Image:C:\\Users\\umair\\Tensorflow Gesture Rec\\TFGR\\Tensorflow\\workspace\\images\\collectedimages\\C\\C.e976c163-9daa-11ee-aeec-d18594d139c0.jpg -> Annotation:C:/Users/umair/Tensorflow Gesture Rec/TFGR/Tensorflow/workspace/images/collectedimages/C\\C.e976c163-9daa-11ee-aeec-d18594d139c0.xml\n",
      "Image:C:\\Users\\umair\\Tensorflow Gesture Rec\\TFGR\\Tensorflow\\workspace\\images\\collectedimages\\C\\C.eab8b471-9daa-11ee-a15d-d18594d139c0.jpg -> Annotation:C:/Users/umair/Tensorflow Gesture Rec/TFGR/Tensorflow/workspace/images/collectedimages/C\\C.eab8b471-9daa-11ee-a15d-d18594d139c0.xml\n",
      "Image:C:\\Users\\umair\\Tensorflow Gesture Rec\\TFGR\\Tensorflow\\workspace\\images\\collectedimages\\C\\C.ebf96ed7-9daa-11ee-90bf-d18594d139c0.jpg -> Annotation:C:/Users/umair/Tensorflow Gesture Rec/TFGR/Tensorflow/workspace/images/collectedimages/C\\C.ebf96ed7-9daa-11ee-90bf-d18594d139c0.xml\n",
      "Image:C:\\Users\\umair\\Tensorflow Gesture Rec\\TFGR\\Tensorflow\\workspace\\images\\collectedimages\\C\\C.ed2f478f-9daa-11ee-b9b4-d18594d139c0.jpg -> Annotation:C:/Users/umair/Tensorflow Gesture Rec/TFGR/Tensorflow/workspace/images/collectedimages/C\\C.ed2f478f-9daa-11ee-b9b4-d18594d139c0.xml\n",
      "Image:C:\\Users\\umair\\Tensorflow Gesture Rec\\TFGR\\Tensorflow\\workspace\\images\\collectedimages\\C\\C.ee63923f-9daa-11ee-abca-d18594d139c0.jpg -> Annotation:C:/Users/umair/Tensorflow Gesture Rec/TFGR/Tensorflow/workspace/images/collectedimages/C\\C.ee63923f-9daa-11ee-abca-d18594d139c0.xml\n",
      "Image:C:\\Users\\umair\\Tensorflow Gesture Rec\\TFGR\\Tensorflow\\workspace\\images\\collectedimages\\C\\C.efa10f36-9daa-11ee-8bdc-d18594d139c0.jpg -> Annotation:C:/Users/umair/Tensorflow Gesture Rec/TFGR/Tensorflow/workspace/images/collectedimages/C\\C.efa10f36-9daa-11ee-8bdc-d18594d139c0.xml\n",
      "Image:C:\\Users\\umair\\Tensorflow Gesture Rec\\TFGR\\Tensorflow\\workspace\\images\\collectedimages\\C\\C.f0e0bf1f-9daa-11ee-b43c-d18594d139c0.jpg -> Annotation:C:/Users/umair/Tensorflow Gesture Rec/TFGR/Tensorflow/workspace/images/collectedimages/C\\C.f0e0bf1f-9daa-11ee-b43c-d18594d139c0.xml\n",
      "Image:C:\\Users\\umair\\Tensorflow Gesture Rec\\TFGR\\Tensorflow\\workspace\\images\\collectedimages\\D\\D.4b32a703-9dab-11ee-be36-d18594d139c0.jpg -> Annotation:C:/Users/umair/Tensorflow Gesture Rec/TFGR/Tensorflow/workspace/images/collectedimages/D\\D.4b32a703-9dab-11ee-be36-d18594d139c0.xml\n",
      "Image:C:\\Users\\umair\\Tensorflow Gesture Rec\\TFGR\\Tensorflow\\workspace\\images\\collectedimages\\D\\D.4c683b9b-9dab-11ee-b157-d18594d139c0.jpg -> Annotation:C:/Users/umair/Tensorflow Gesture Rec/TFGR/Tensorflow/workspace/images/collectedimages/D\\D.4c683b9b-9dab-11ee-b157-d18594d139c0.xml\n",
      "Image:C:\\Users\\umair\\Tensorflow Gesture Rec\\TFGR\\Tensorflow\\workspace\\images\\collectedimages\\D\\D.4d9ea089-9dab-11ee-9b67-d18594d139c0.jpg -> Annotation:C:/Users/umair/Tensorflow Gesture Rec/TFGR/Tensorflow/workspace/images/collectedimages/D\\D.4d9ea089-9dab-11ee-9b67-d18594d139c0.xml\n",
      "Image:C:\\Users\\umair\\Tensorflow Gesture Rec\\TFGR\\Tensorflow\\workspace\\images\\collectedimages\\D\\D.48c5d027-9dab-11ee-bd2a-d18594d139c0.jpg -> Annotation:C:/Users/umair/Tensorflow Gesture Rec/TFGR/Tensorflow/workspace/images/collectedimages/D\\D.48c5d027-9dab-11ee-bd2a-d18594d139c0.xml\n",
      "Image:C:\\Users\\umair\\Tensorflow Gesture Rec\\TFGR\\Tensorflow\\workspace\\images\\collectedimages\\D\\D.49fb2284-9dab-11ee-a7b9-d18594d139c0.jpg -> Annotation:C:/Users/umair/Tensorflow Gesture Rec/TFGR/Tensorflow/workspace/images/collectedimages/D\\D.49fb2284-9dab-11ee-a7b9-d18594d139c0.xml\n",
      "Image:C:\\Users\\umair\\Tensorflow Gesture Rec\\TFGR\\Tensorflow\\workspace\\images\\collectedimages\\D\\D.4790bb40-9dab-11ee-bd1d-d18594d139c0.jpg -> Annotation:C:/Users/umair/Tensorflow Gesture Rec/TFGR/Tensorflow/workspace/images/collectedimages/D\\D.4790bb40-9dab-11ee-bd1d-d18594d139c0.xml\n",
      "Image:C:\\Users\\umair\\Tensorflow Gesture Rec\\TFGR\\Tensorflow\\workspace\\images\\collectedimages\\D\\D.4655935d-9dab-11ee-a621-d18594d139c0.jpg -> Annotation:C:/Users/umair/Tensorflow Gesture Rec/TFGR/Tensorflow/workspace/images/collectedimages/D\\D.4655935d-9dab-11ee-a621-d18594d139c0.xml\n",
      "Image:C:\\Users\\umair\\Tensorflow Gesture Rec\\TFGR\\Tensorflow\\workspace\\images\\collectedimages\\E\\E.a1bb3552-9dab-11ee-ac8e-d18594d139c0.jpg -> Annotation:C:/Users/umair/Tensorflow Gesture Rec/TFGR/Tensorflow/workspace/images/collectedimages/E\\E.a1bb3552-9dab-11ee-ac8e-d18594d139c0.xml\n",
      "Image:C:\\Users\\umair\\Tensorflow Gesture Rec\\TFGR\\Tensorflow\\workspace\\images\\collectedimages\\E\\E.a2f13f9e-9dab-11ee-96af-d18594d139c0.jpg -> Annotation:C:/Users/umair/Tensorflow Gesture Rec/TFGR/Tensorflow/workspace/images/collectedimages/E\\E.a2f13f9e-9dab-11ee-96af-d18594d139c0.xml\n",
      "Image:C:\\Users\\umair\\Tensorflow Gesture Rec\\TFGR\\Tensorflow\\workspace\\images\\collectedimages\\E\\E.a4272f20-9dab-11ee-8014-d18594d139c0.jpg -> Annotation:C:/Users/umair/Tensorflow Gesture Rec/TFGR/Tensorflow/workspace/images/collectedimages/E\\E.a4272f20-9dab-11ee-8014-d18594d139c0.xml\n",
      "Image:C:\\Users\\umair\\Tensorflow Gesture Rec\\TFGR\\Tensorflow\\workspace\\images\\collectedimages\\E\\E.d0dbc8fe-9dab-11ee-90df-d18594d139c0.jpg -> Annotation:C:/Users/umair/Tensorflow Gesture Rec/TFGR/Tensorflow/workspace/images/collectedimages/E\\E.d0dbc8fe-9dab-11ee-90df-d18594d139c0.xml\n",
      "Image:C:\\Users\\umair\\Tensorflow Gesture Rec\\TFGR\\Tensorflow\\workspace\\images\\collectedimages\\E\\E.d5b7bc51-9dab-11ee-9689-d18594d139c0.jpg -> Annotation:C:/Users/umair/Tensorflow Gesture Rec/TFGR/Tensorflow/workspace/images/collectedimages/E\\E.d5b7bc51-9dab-11ee-9689-d18594d139c0.xml\n",
      "Image:C:\\Users\\umair\\Tensorflow Gesture Rec\\TFGR\\Tensorflow\\workspace\\images\\collectedimages\\E\\E.d6ee7b69-9dab-11ee-a4af-d18594d139c0.jpg -> Annotation:C:/Users/umair/Tensorflow Gesture Rec/TFGR/Tensorflow/workspace/images/collectedimages/E\\E.d6ee7b69-9dab-11ee-a4af-d18594d139c0.xml\n",
      "Image:C:\\Users\\umair\\Tensorflow Gesture Rec\\TFGR\\Tensorflow\\workspace\\images\\collectedimages\\E\\E.d34ba2e7-9dab-11ee-b0e6-d18594d139c0.jpg -> Annotation:C:/Users/umair/Tensorflow Gesture Rec/TFGR/Tensorflow/workspace/images/collectedimages/E\\E.d34ba2e7-9dab-11ee-b0e6-d18594d139c0.xml\n",
      "Image:C:\\Users\\umair\\Tensorflow Gesture Rec\\TFGR\\Tensorflow\\workspace\\images\\collectedimages\\E\\E.d47fcad2-9dab-11ee-9a5a-d18594d139c0.jpg -> Annotation:C:/Users/umair/Tensorflow Gesture Rec/TFGR/Tensorflow/workspace/images/collectedimages/E\\E.d47fcad2-9dab-11ee-9a5a-d18594d139c0.xml\n",
      "Image:C:\\Users\\umair\\Tensorflow Gesture Rec\\TFGR\\Tensorflow\\workspace\\images\\collectedimages\\E\\E.d8246ba3-9dab-11ee-85f3-d18594d139c0.jpg -> Annotation:C:/Users/umair/Tensorflow Gesture Rec/TFGR/Tensorflow/workspace/images/collectedimages/E\\E.d8246ba3-9dab-11ee-85f3-d18594d139c0.xml\n",
      "Image:C:\\Users\\umair\\Tensorflow Gesture Rec\\TFGR\\Tensorflow\\workspace\\images\\collectedimages\\E\\E.d2137558-9dab-11ee-9f19-d18594d139c0.jpg -> Annotation:C:/Users/umair/Tensorflow Gesture Rec/TFGR/Tensorflow/workspace/images/collectedimages/E\\E.d2137558-9dab-11ee-9f19-d18594d139c0.xml\n",
      "Image:C:\\Users\\umair\\Tensorflow Gesture Rec\\TFGR\\Tensorflow\\workspace\\images\\collectedimages\\F\\F.03c3d6da-9dac-11ee-b525-d18594d139c0.jpg -> Annotation:C:/Users/umair/Tensorflow Gesture Rec/TFGR/Tensorflow/workspace/images/collectedimages/F\\F.03c3d6da-9dac-11ee-b525-d18594d139c0.xml\n",
      "Image:C:\\Users\\umair\\Tensorflow Gesture Rec\\TFGR\\Tensorflow\\workspace\\images\\collectedimages\\F\\F.04f8ead2-9dac-11ee-aa0b-d18594d139c0.jpg -> Annotation:C:/Users/umair/Tensorflow Gesture Rec/TFGR/Tensorflow/workspace/images/collectedimages/F\\F.04f8ead2-9dac-11ee-aa0b-d18594d139c0.xml\n",
      "Image:C:\\Users\\umair\\Tensorflow Gesture Rec\\TFGR\\Tensorflow\\workspace\\images\\collectedimages\\F\\F.09cfd3ed-9dac-11ee-8156-d18594d139c0.jpg -> Annotation:C:/Users/umair/Tensorflow Gesture Rec/TFGR/Tensorflow/workspace/images/collectedimages/F\\F.09cfd3ed-9dac-11ee-8156-d18594d139c0.xml\n",
      "Image:C:\\Users\\umair\\Tensorflow Gesture Rec\\TFGR\\Tensorflow\\workspace\\images\\collectedimages\\F\\F.028ca92f-9dac-11ee-876e-d18594d139c0.jpg -> Annotation:C:/Users/umair/Tensorflow Gesture Rec/TFGR/Tensorflow/workspace/images/collectedimages/F\\F.028ca92f-9dac-11ee-876e-d18594d139c0.xml\n",
      "Image:C:\\Users\\umair\\Tensorflow Gesture Rec\\TFGR\\Tensorflow\\workspace\\images\\collectedimages\\F\\F.062db168-9dac-11ee-a13a-d18594d139c0.jpg -> Annotation:C:/Users/umair/Tensorflow Gesture Rec/TFGR/Tensorflow/workspace/images/collectedimages/F\\F.062db168-9dac-11ee-a13a-d18594d139c0.xml\n",
      "Image:C:\\Users\\umair\\Tensorflow Gesture Rec\\TFGR\\Tensorflow\\workspace\\images\\collectedimages\\F\\F.08991dcb-9dac-11ee-871f-d18594d139c0.jpg -> Annotation:C:/Users/umair/Tensorflow Gesture Rec/TFGR/Tensorflow/workspace/images/collectedimages/F\\F.08991dcb-9dac-11ee-871f-d18594d139c0.xml\n",
      "Image:C:\\Users\\umair\\Tensorflow Gesture Rec\\TFGR\\Tensorflow\\workspace\\images\\collectedimages\\F\\F.076335fa-9dac-11ee-80d5-d18594d139c0.jpg -> Annotation:C:/Users/umair/Tensorflow Gesture Rec/TFGR/Tensorflow/workspace/images/collectedimages/F\\F.076335fa-9dac-11ee-80d5-d18594d139c0.xml\n",
      "Image:C:\\Users\\umair\\Tensorflow Gesture Rec\\TFGR\\Tensorflow\\workspace\\images\\collectedimages\\G\\G.1d4170ee-9dac-11ee-8680-d18594d139c0.jpg -> Annotation:C:/Users/umair/Tensorflow Gesture Rec/TFGR/Tensorflow/workspace/images/collectedimages/G\\G.1d4170ee-9dac-11ee-8680-d18594d139c0.xml\n",
      "Image:C:\\Users\\umair\\Tensorflow Gesture Rec\\TFGR\\Tensorflow\\workspace\\images\\collectedimages\\G\\G.1e769f33-9dac-11ee-8e49-d18594d139c0.jpg -> Annotation:C:/Users/umair/Tensorflow Gesture Rec/TFGR/Tensorflow/workspace/images/collectedimages/G\\G.1e769f33-9dac-11ee-8e49-d18594d139c0.xml\n",
      "Image:C:\\Users\\umair\\Tensorflow Gesture Rec\\TFGR\\Tensorflow\\workspace\\images\\collectedimages\\G\\G.1fad7616-9dac-11ee-80bc-d18594d139c0.jpg -> Annotation:C:/Users/umair/Tensorflow Gesture Rec/TFGR/Tensorflow/workspace/images/collectedimages/G\\G.1fad7616-9dac-11ee-80bc-d18594d139c0.xml\n",
      "Image:C:\\Users\\umair\\Tensorflow Gesture Rec\\TFGR\\Tensorflow\\workspace\\images\\collectedimages\\G\\G.2b17111e-9dac-11ee-af17-d18594d139c0.jpg -> Annotation:C:/Users/umair/Tensorflow Gesture Rec/TFGR/Tensorflow/workspace/images/collectedimages/G\\G.2b17111e-9dac-11ee-af17-d18594d139c0.xml\n",
      "Image:C:\\Users\\umair\\Tensorflow Gesture Rec\\TFGR\\Tensorflow\\workspace\\images\\collectedimages\\G\\G.2c4c1062-9dac-11ee-bb5d-d18594d139c0.jpg -> Annotation:C:/Users/umair/Tensorflow Gesture Rec/TFGR/Tensorflow/workspace/images/collectedimages/G\\G.2c4c1062-9dac-11ee-bb5d-d18594d139c0.xml\n",
      "Image:C:\\Users\\umair\\Tensorflow Gesture Rec\\TFGR\\Tensorflow\\workspace\\images\\collectedimages\\G\\G.2d8182f4-9dac-11ee-b55d-d18594d139c0.jpg -> Annotation:C:/Users/umair/Tensorflow Gesture Rec/TFGR/Tensorflow/workspace/images/collectedimages/G\\G.2d8182f4-9dac-11ee-b55d-d18594d139c0.xml\n",
      "Image:C:\\Users\\umair\\Tensorflow Gesture Rec\\TFGR\\Tensorflow\\workspace\\images\\collectedimages\\G\\G.2eb9d38c-9dac-11ee-aa8f-d18594d139c0.jpg -> Annotation:C:/Users/umair/Tensorflow Gesture Rec/TFGR/Tensorflow/workspace/images/collectedimages/G\\G.2eb9d38c-9dac-11ee-aa8f-d18594d139c0.xml\n",
      "Image:C:\\Users\\umair\\Tensorflow Gesture Rec\\TFGR\\Tensorflow\\workspace\\images\\collectedimages\\G\\G.2ff1238b-9dac-11ee-8a8c-d18594d139c0.jpg -> Annotation:C:/Users/umair/Tensorflow Gesture Rec/TFGR/Tensorflow/workspace/images/collectedimages/G\\G.2ff1238b-9dac-11ee-8a8c-d18594d139c0.xml\n",
      "Image:C:\\Users\\umair\\Tensorflow Gesture Rec\\TFGR\\Tensorflow\\workspace\\images\\collectedimages\\G\\G.20e2c84a-9dac-11ee-b161-d18594d139c0.jpg -> Annotation:C:/Users/umair/Tensorflow Gesture Rec/TFGR/Tensorflow/workspace/images/collectedimages/G\\G.20e2c84a-9dac-11ee-b161-d18594d139c0.xml\n",
      "Image:C:\\Users\\umair\\Tensorflow Gesture Rec\\TFGR\\Tensorflow\\workspace\\images\\collectedimages\\G\\G.28a919df-9dac-11ee-b777-d18594d139c0.jpg -> Annotation:C:/Users/umair/Tensorflow Gesture Rec/TFGR/Tensorflow/workspace/images/collectedimages/G\\G.28a919df-9dac-11ee-b777-d18594d139c0.xml\n",
      "Image:C:\\Users\\umair\\Tensorflow Gesture Rec\\TFGR\\Tensorflow\\workspace\\images\\collectedimages\\G\\G.29e11f3b-9dac-11ee-97f8-d18594d139c0.jpg -> Annotation:C:/Users/umair/Tensorflow Gesture Rec/TFGR/Tensorflow/workspace/images/collectedimages/G\\G.29e11f3b-9dac-11ee-97f8-d18594d139c0.xml\n",
      "Image:C:\\Users\\umair\\Tensorflow Gesture Rec\\TFGR\\Tensorflow\\workspace\\images\\collectedimages\\G\\G.22197d36-9dac-11ee-8dc4-d18594d139c0.jpg -> Annotation:C:/Users/umair/Tensorflow Gesture Rec/TFGR/Tensorflow/workspace/images/collectedimages/G\\G.22197d36-9dac-11ee-8dc4-d18594d139c0.xml\n",
      "Image:C:\\Users\\umair\\Tensorflow Gesture Rec\\TFGR\\Tensorflow\\workspace\\images\\collectedimages\\H\\H.4ce84487-9dac-11ee-b9b4-d18594d139c0.jpg -> Annotation:C:/Users/umair/Tensorflow Gesture Rec/TFGR/Tensorflow/workspace/images/collectedimages/H\\H.4ce84487-9dac-11ee-b9b4-d18594d139c0.xml\n",
      "Image:C:\\Users\\umair\\Tensorflow Gesture Rec\\TFGR\\Tensorflow\\workspace\\images\\collectedimages\\H\\H.4e1d986c-9dac-11ee-b933-d18594d139c0.jpg -> Annotation:C:/Users/umair/Tensorflow Gesture Rec/TFGR/Tensorflow/workspace/images/collectedimages/H\\H.4e1d986c-9dac-11ee-b933-d18594d139c0.xml\n",
      "Image:C:\\Users\\umair\\Tensorflow Gesture Rec\\TFGR\\Tensorflow\\workspace\\images\\collectedimages\\H\\H.4f51991d-9dac-11ee-96fd-d18594d139c0.jpg -> Annotation:C:/Users/umair/Tensorflow Gesture Rec/TFGR/Tensorflow/workspace/images/collectedimages/H\\H.4f51991d-9dac-11ee-96fd-d18594d139c0.xml\n",
      "Image:C:\\Users\\umair\\Tensorflow Gesture Rec\\TFGR\\Tensorflow\\workspace\\images\\collectedimages\\H\\H.6b86dc11-9dac-11ee-b0d5-d18594d139c0.jpg -> Annotation:C:/Users/umair/Tensorflow Gesture Rec/TFGR/Tensorflow/workspace/images/collectedimages/H\\H.6b86dc11-9dac-11ee-b0d5-d18594d139c0.xml\n",
      "Image:C:\\Users\\umair\\Tensorflow Gesture Rec\\TFGR\\Tensorflow\\workspace\\images\\collectedimages\\H\\H.6cbdf3ad-9dac-11ee-bf1d-d18594d139c0.jpg -> Annotation:C:/Users/umair/Tensorflow Gesture Rec/TFGR/Tensorflow/workspace/images/collectedimages/H\\H.6cbdf3ad-9dac-11ee-bf1d-d18594d139c0.xml\n",
      "Image:C:\\Users\\umair\\Tensorflow Gesture Rec\\TFGR\\Tensorflow\\workspace\\images\\collectedimages\\H\\H.6df41200-9dac-11ee-87e8-d18594d139c0.jpg -> Annotation:C:/Users/umair/Tensorflow Gesture Rec/TFGR/Tensorflow/workspace/images/collectedimages/H\\H.6df41200-9dac-11ee-87e8-d18594d139c0.xml\n",
      "Image:C:\\Users\\umair\\Tensorflow Gesture Rec\\TFGR\\Tensorflow\\workspace\\images\\collectedimages\\H\\H.6f29ba11-9dac-11ee-bf2c-d18594d139c0.jpg -> Annotation:C:/Users/umair/Tensorflow Gesture Rec/TFGR/Tensorflow/workspace/images/collectedimages/H\\H.6f29ba11-9dac-11ee-bf2c-d18594d139c0.xml\n",
      "Image:C:\\Users\\umair\\Tensorflow Gesture Rec\\TFGR\\Tensorflow\\workspace\\images\\collectedimages\\H\\H.51bc8b28-9dac-11ee-b134-d18594d139c0.jpg -> Annotation:C:/Users/umair/Tensorflow Gesture Rec/TFGR/Tensorflow/workspace/images/collectedimages/H\\H.51bc8b28-9dac-11ee-b134-d18594d139c0.xml\n",
      "Image:C:\\Users\\umair\\Tensorflow Gesture Rec\\TFGR\\Tensorflow\\workspace\\images\\collectedimages\\H\\H.52f17d7c-9dac-11ee-a9d2-d18594d139c0.jpg -> Annotation:C:/Users/umair/Tensorflow Gesture Rec/TFGR/Tensorflow/workspace/images/collectedimages/H\\H.52f17d7c-9dac-11ee-a9d2-d18594d139c0.xml\n",
      "Image:C:\\Users\\umair\\Tensorflow Gesture Rec\\TFGR\\Tensorflow\\workspace\\images\\collectedimages\\H\\H.72cbec75-9dac-11ee-8a23-d18594d139c0.jpg -> Annotation:C:/Users/umair/Tensorflow Gesture Rec/TFGR/Tensorflow/workspace/images/collectedimages/H\\H.72cbec75-9dac-11ee-8a23-d18594d139c0.xml\n",
      "Image:C:\\Users\\umair\\Tensorflow Gesture Rec\\TFGR\\Tensorflow\\workspace\\images\\collectedimages\\H\\H.50868b28-9dac-11ee-9642-d18594d139c0.jpg -> Annotation:C:/Users/umair/Tensorflow Gesture Rec/TFGR/Tensorflow/workspace/images/collectedimages/H\\H.50868b28-9dac-11ee-9642-d18594d139c0.xml\n",
      "Image:C:\\Users\\umair\\Tensorflow Gesture Rec\\TFGR\\Tensorflow\\workspace\\images\\collectedimages\\H\\H.706042ff-9dac-11ee-af9c-d18594d139c0.jpg -> Annotation:C:/Users/umair/Tensorflow Gesture Rec/TFGR/Tensorflow/workspace/images/collectedimages/H\\H.706042ff-9dac-11ee-af9c-d18594d139c0.xml\n",
      "Image:C:\\Users\\umair\\Tensorflow Gesture Rec\\TFGR\\Tensorflow\\workspace\\images\\collectedimages\\H\\H.719653f6-9dac-11ee-881d-d18594d139c0.jpg -> Annotation:C:/Users/umair/Tensorflow Gesture Rec/TFGR/Tensorflow/workspace/images/collectedimages/H\\H.719653f6-9dac-11ee-881d-d18594d139c0.xml\n",
      "Image:C:\\Users\\umair\\Tensorflow Gesture Rec\\TFGR\\Tensorflow\\workspace\\images\\collectedimages\\H\\H.54282650-9dac-11ee-8100-d18594d139c0.jpg -> Annotation:C:/Users/umair/Tensorflow Gesture Rec/TFGR/Tensorflow/workspace/images/collectedimages/H\\H.54282650-9dac-11ee-8100-d18594d139c0.xml\n",
      "Image:C:\\Users\\umair\\Tensorflow Gesture Rec\\TFGR\\Tensorflow\\workspace\\images\\collectedimages\\I\\I.8f06c8fc-9dac-11ee-9b0b-d18594d139c0.jpg -> Annotation:C:/Users/umair/Tensorflow Gesture Rec/TFGR/Tensorflow/workspace/images/collectedimages/I\\I.8f06c8fc-9dac-11ee-9b0b-d18594d139c0.xml\n",
      "Image:C:\\Users\\umair\\Tensorflow Gesture Rec\\TFGR\\Tensorflow\\workspace\\images\\collectedimages\\I\\I.9d113fbc-9dac-11ee-805e-d18594d139c0.jpg -> Annotation:C:/Users/umair/Tensorflow Gesture Rec/TFGR/Tensorflow/workspace/images/collectedimages/I\\I.9d113fbc-9dac-11ee-805e-d18594d139c0.xml\n",
      "Image:C:\\Users\\umair\\Tensorflow Gesture Rec\\TFGR\\Tensorflow\\workspace\\images\\collectedimages\\I\\I.9e4a5102-9dac-11ee-b0ba-d18594d139c0.jpg -> Annotation:C:/Users/umair/Tensorflow Gesture Rec/TFGR/Tensorflow/workspace/images/collectedimages/I\\I.9e4a5102-9dac-11ee-b0ba-d18594d139c0.xml\n",
      "Image:C:\\Users\\umair\\Tensorflow Gesture Rec\\TFGR\\Tensorflow\\workspace\\images\\collectedimages\\I\\I.9f7ffc81-9dac-11ee-b3c6-d18594d139c0.jpg -> Annotation:C:/Users/umair/Tensorflow Gesture Rec/TFGR/Tensorflow/workspace/images/collectedimages/I\\I.9f7ffc81-9dac-11ee-b3c6-d18594d139c0.xml\n",
      "Image:C:\\Users\\umair\\Tensorflow Gesture Rec\\TFGR\\Tensorflow\\workspace\\images\\collectedimages\\I\\I.92aa3938-9dac-11ee-a5a1-d18594d139c0.jpg -> Annotation:C:/Users/umair/Tensorflow Gesture Rec/TFGR/Tensorflow/workspace/images/collectedimages/I\\I.92aa3938-9dac-11ee-a5a1-d18594d139c0.xml\n",
      "Image:C:\\Users\\umair\\Tensorflow Gesture Rec\\TFGR\\Tensorflow\\workspace\\images\\collectedimages\\I\\I.93de3350-9dac-11ee-ad5b-d18594d139c0.jpg -> Annotation:C:/Users/umair/Tensorflow Gesture Rec/TFGR/Tensorflow/workspace/images/collectedimages/I\\I.93de3350-9dac-11ee-ad5b-d18594d139c0.xml\n",
      "Image:C:\\Users\\umair\\Tensorflow Gesture Rec\\TFGR\\Tensorflow\\workspace\\images\\collectedimages\\I\\I.903dc013-9dac-11ee-85f2-d18594d139c0.jpg -> Annotation:C:/Users/umair/Tensorflow Gesture Rec/TFGR/Tensorflow/workspace/images/collectedimages/I\\I.903dc013-9dac-11ee-85f2-d18594d139c0.xml\n",
      "Image:C:\\Users\\umair\\Tensorflow Gesture Rec\\TFGR\\Tensorflow\\workspace\\images\\collectedimages\\I\\I.9173c951-9dac-11ee-b60f-d18594d139c0.jpg -> Annotation:C:/Users/umair/Tensorflow Gesture Rec/TFGR/Tensorflow/workspace/images/collectedimages/I\\I.9173c951-9dac-11ee-b60f-d18594d139c0.xml\n",
      "Image:C:\\Users\\umair\\Tensorflow Gesture Rec\\TFGR\\Tensorflow\\workspace\\images\\collectedimages\\I\\I.964920aa-9dac-11ee-a0d5-d18594d139c0.jpg -> Annotation:C:/Users/umair/Tensorflow Gesture Rec/TFGR/Tensorflow/workspace/images/collectedimages/I\\I.964920aa-9dac-11ee-a0d5-d18594d139c0.xml\n",
      "Image:C:\\Users\\umair\\Tensorflow Gesture Rec\\TFGR\\Tensorflow\\workspace\\images\\collectedimages\\I\\I.95135439-9dac-11ee-8dff-d18594d139c0.jpg -> Annotation:C:/Users/umair/Tensorflow Gesture Rec/TFGR/Tensorflow/workspace/images/collectedimages/I\\I.95135439-9dac-11ee-8dff-d18594d139c0.xml\n",
      "Image:C:\\Users\\umair\\Tensorflow Gesture Rec\\TFGR\\Tensorflow\\workspace\\images\\collectedimages\\I\\I.a0b5fe0c-9dac-11ee-99fa-d18594d139c0.jpg -> Annotation:C:/Users/umair/Tensorflow Gesture Rec/TFGR/Tensorflow/workspace/images/collectedimages/I\\I.a0b5fe0c-9dac-11ee-99fa-d18594d139c0.xml\n",
      "Image:C:\\Users\\umair\\Tensorflow Gesture Rec\\TFGR\\Tensorflow\\workspace\\images\\collectedimages\\I\\I.a1eac4eb-9dac-11ee-93f6-d18594d139c0.jpg -> Annotation:C:/Users/umair/Tensorflow Gesture Rec/TFGR/Tensorflow/workspace/images/collectedimages/I\\I.a1eac4eb-9dac-11ee-93f6-d18594d139c0.xml\n",
      "Image:C:\\Users\\umair\\Tensorflow Gesture Rec\\TFGR\\Tensorflow\\workspace\\images\\collectedimages\\I\\I.a31f3ce7-9dac-11ee-8396-d18594d139c0.jpg -> Annotation:C:/Users/umair/Tensorflow Gesture Rec/TFGR/Tensorflow/workspace/images/collectedimages/I\\I.a31f3ce7-9dac-11ee-8396-d18594d139c0.xml\n",
      "Image:C:\\Users\\umair\\Tensorflow Gesture Rec\\TFGR\\Tensorflow\\workspace\\images\\collectedimages\\I\\I.a4547a65-9dac-11ee-bfab-d18594d139c0.jpg -> Annotation:C:/Users/umair/Tensorflow Gesture Rec/TFGR/Tensorflow/workspace/images/collectedimages/I\\I.a4547a65-9dac-11ee-bfab-d18594d139c0.xml\n",
      "Image:C:\\Users\\umair\\Tensorflow Gesture Rec\\TFGR\\Tensorflow\\workspace\\images\\collectedimages\\J\\J.1ef179c1-9dad-11ee-a058-d18594d139c0.jpg -> Annotation:C:/Users/umair/Tensorflow Gesture Rec/TFGR/Tensorflow/workspace/images/collectedimages/J\\J.1ef179c1-9dad-11ee-a058-d18594d139c0.xml\n",
      "Image:C:\\Users\\umair\\Tensorflow Gesture Rec\\TFGR\\Tensorflow\\workspace\\images\\collectedimages\\J\\J.11d8850e-9dad-11ee-8d07-d18594d139c0.jpg -> Annotation:C:/Users/umair/Tensorflow Gesture Rec/TFGR/Tensorflow/workspace/images/collectedimages/J\\J.11d8850e-9dad-11ee-8d07-d18594d139c0.xml\n",
      "Image:C:\\Users\\umair\\Tensorflow Gesture Rec\\TFGR\\Tensorflow\\workspace\\images\\collectedimages\\J\\J.16b36c75-9dad-11ee-ac4a-d18594d139c0.jpg -> Annotation:C:/Users/umair/Tensorflow Gesture Rec/TFGR/Tensorflow/workspace/images/collectedimages/J\\J.16b36c75-9dad-11ee-ac4a-d18594d139c0.xml\n",
      "Image:C:\\Users\\umair\\Tensorflow Gesture Rec\\TFGR\\Tensorflow\\workspace\\images\\collectedimages\\J\\J.17e9cddd-9dad-11ee-ba84-d18594d139c0.jpg -> Annotation:C:/Users/umair/Tensorflow Gesture Rec/TFGR/Tensorflow/workspace/images/collectedimages/J\\J.17e9cddd-9dad-11ee-ba84-d18594d139c0.xml\n",
      "Image:C:\\Users\\umair\\Tensorflow Gesture Rec\\TFGR\\Tensorflow\\workspace\\images\\collectedimages\\J\\J.23cb823b-9dad-11ee-97bb-d18594d139c0.jpg -> Annotation:C:/Users/umair/Tensorflow Gesture Rec/TFGR/Tensorflow/workspace/images/collectedimages/J\\J.23cb823b-9dad-11ee-97bb-d18594d139c0.xml\n",
      "Image:C:\\Users\\umair\\Tensorflow Gesture Rec\\TFGR\\Tensorflow\\workspace\\images\\collectedimages\\J\\J.157d5176-9dad-11ee-b253-d18594d139c0.jpg -> Annotation:C:/Users/umair/Tensorflow Gesture Rec/TFGR/Tensorflow/workspace/images/collectedimages/J\\J.157d5176-9dad-11ee-b253-d18594d139c0.xml\n",
      "Image:C:\\Users\\umair\\Tensorflow Gesture Rec\\TFGR\\Tensorflow\\workspace\\images\\collectedimages\\J\\J.191f0c0d-9dad-11ee-95d8-d18594d139c0.jpg -> Annotation:C:/Users/umair/Tensorflow Gesture Rec/TFGR/Tensorflow/workspace/images/collectedimages/J\\J.191f0c0d-9dad-11ee-95d8-d18594d139c0.xml\n",
      "Image:C:\\Users\\umair\\Tensorflow Gesture Rec\\TFGR\\Tensorflow\\workspace\\images\\collectedimages\\J\\J.215cc6f4-9dad-11ee-81f6-d18594d139c0.jpg -> Annotation:C:/Users/umair/Tensorflow Gesture Rec/TFGR/Tensorflow/workspace/images/collectedimages/J\\J.215cc6f4-9dad-11ee-81f6-d18594d139c0.xml\n",
      "Image:C:\\Users\\umair\\Tensorflow Gesture Rec\\TFGR\\Tensorflow\\workspace\\images\\collectedimages\\J\\J.1446b446-9dad-11ee-a5ee-d18594d139c0.jpg -> Annotation:C:/Users/umair/Tensorflow Gesture Rec/TFGR/Tensorflow/workspace/images/collectedimages/J\\J.1446b446-9dad-11ee-a5ee-d18594d139c0.xml\n",
      "Image:C:\\Users\\umair\\Tensorflow Gesture Rec\\TFGR\\Tensorflow\\workspace\\images\\collectedimages\\J\\J.20278cd5-9dad-11ee-aead-d18594d139c0.jpg -> Annotation:C:/Users/umair/Tensorflow Gesture Rec/TFGR/Tensorflow/workspace/images/collectedimages/J\\J.20278cd5-9dad-11ee-aead-d18594d139c0.xml\n",
      "Image:C:\\Users\\umair\\Tensorflow Gesture Rec\\TFGR\\Tensorflow\\workspace\\images\\collectedimages\\J\\J.22930fa1-9dad-11ee-ab66-d18594d139c0.jpg -> Annotation:C:/Users/umair/Tensorflow Gesture Rec/TFGR/Tensorflow/workspace/images/collectedimages/J\\J.22930fa1-9dad-11ee-ab66-d18594d139c0.xml\n",
      "Image:C:\\Users\\umair\\Tensorflow Gesture Rec\\TFGR\\Tensorflow\\workspace\\images\\collectedimages\\J\\J.26362bca-9dad-11ee-952d-d18594d139c0.jpg -> Annotation:C:/Users/umair/Tensorflow Gesture Rec/TFGR/Tensorflow/workspace/images/collectedimages/J\\J.26362bca-9dad-11ee-952d-d18594d139c0.xml\n",
      "Image:C:\\Users\\umair\\Tensorflow Gesture Rec\\TFGR\\Tensorflow\\workspace\\images\\collectedimages\\J\\J.250050d7-9dad-11ee-ad03-d18594d139c0.jpg -> Annotation:C:/Users/umair/Tensorflow Gesture Rec/TFGR/Tensorflow/workspace/images/collectedimages/J\\J.250050d7-9dad-11ee-ad03-d18594d139c0.xml\n",
      "Image:C:\\Users\\umair\\Tensorflow Gesture Rec\\TFGR\\Tensorflow\\workspace\\images\\collectedimages\\J\\J.13116125-9dad-11ee-963a-d18594d139c0.jpg -> Annotation:C:/Users/umair/Tensorflow Gesture Rec/TFGR/Tensorflow/workspace/images/collectedimages/J\\J.13116125-9dad-11ee-963a-d18594d139c0.xml\n",
      "Image:C:\\Users\\umair\\Tensorflow Gesture Rec\\TFGR\\Tensorflow\\workspace\\images\\collectedimages\\K\\K.4aaf63fe-9dad-11ee-b5a4-d18594d139c0.jpg -> Annotation:C:/Users/umair/Tensorflow Gesture Rec/TFGR/Tensorflow/workspace/images/collectedimages/K\\K.4aaf63fe-9dad-11ee-b5a4-d18594d139c0.xml\n",
      "Image:C:\\Users\\umair\\Tensorflow Gesture Rec\\TFGR\\Tensorflow\\workspace\\images\\collectedimages\\K\\K.4be62066-9dad-11ee-b403-d18594d139c0.jpg -> Annotation:C:/Users/umair/Tensorflow Gesture Rec/TFGR/Tensorflow/workspace/images/collectedimages/K\\K.4be62066-9dad-11ee-b403-d18594d139c0.xml\n",
      "Image:C:\\Users\\umair\\Tensorflow Gesture Rec\\TFGR\\Tensorflow\\workspace\\images\\collectedimages\\K\\K.4d1b5980-9dad-11ee-a0d9-d18594d139c0.jpg -> Annotation:C:/Users/umair/Tensorflow Gesture Rec/TFGR/Tensorflow/workspace/images/collectedimages/K\\K.4d1b5980-9dad-11ee-a0d9-d18594d139c0.xml\n",
      "Image:C:\\Users\\umair\\Tensorflow Gesture Rec\\TFGR\\Tensorflow\\workspace\\images\\collectedimages\\K\\K.5a97a70f-9dad-11ee-8ccb-d18594d139c0.jpg -> Annotation:C:/Users/umair/Tensorflow Gesture Rec/TFGR/Tensorflow/workspace/images/collectedimages/K\\K.5a97a70f-9dad-11ee-8ccb-d18594d139c0.xml\n",
      "Image:C:\\Users\\umair\\Tensorflow Gesture Rec\\TFGR\\Tensorflow\\workspace\\images\\collectedimages\\K\\K.5bcd3470-9dad-11ee-a784-d18594d139c0.jpg -> Annotation:C:/Users/umair/Tensorflow Gesture Rec/TFGR/Tensorflow/workspace/images/collectedimages/K\\K.5bcd3470-9dad-11ee-a784-d18594d139c0.xml\n",
      "Image:C:\\Users\\umair\\Tensorflow Gesture Rec\\TFGR\\Tensorflow\\workspace\\images\\collectedimages\\K\\K.5d02e58f-9dad-11ee-a991-d18594d139c0.jpg -> Annotation:C:/Users/umair/Tensorflow Gesture Rec/TFGR/Tensorflow/workspace/images/collectedimages/K\\K.5d02e58f-9dad-11ee-a991-d18594d139c0.xml\n",
      "Image:C:\\Users\\umair\\Tensorflow Gesture Rec\\TFGR\\Tensorflow\\workspace\\images\\collectedimages\\K\\K.5e382007-9dad-11ee-8191-d18594d139c0.jpg -> Annotation:C:/Users/umair/Tensorflow Gesture Rec/TFGR/Tensorflow/workspace/images/collectedimages/K\\K.5e382007-9dad-11ee-8191-d18594d139c0.xml\n",
      "Image:C:\\Users\\umair\\Tensorflow Gesture Rec\\TFGR\\Tensorflow\\workspace\\images\\collectedimages\\K\\K.6bb31bf2-9dad-11ee-95c4-d18594d139c0.jpg -> Annotation:C:/Users/umair/Tensorflow Gesture Rec/TFGR/Tensorflow/workspace/images/collectedimages/K\\K.6bb31bf2-9dad-11ee-95c4-d18594d139c0.xml\n",
      "Image:C:\\Users\\umair\\Tensorflow Gesture Rec\\TFGR\\Tensorflow\\workspace\\images\\collectedimages\\K\\K.6cec12f7-9dad-11ee-b961-d18594d139c0.jpg -> Annotation:C:/Users/umair/Tensorflow Gesture Rec/TFGR/Tensorflow/workspace/images/collectedimages/K\\K.6cec12f7-9dad-11ee-b961-d18594d139c0.xml\n",
      "Image:C:\\Users\\umair\\Tensorflow Gesture Rec\\TFGR\\Tensorflow\\workspace\\images\\collectedimages\\K\\K.6e222259-9dad-11ee-85d5-d18594d139c0.jpg -> Annotation:C:/Users/umair/Tensorflow Gesture Rec/TFGR/Tensorflow/workspace/images/collectedimages/K\\K.6e222259-9dad-11ee-85d5-d18594d139c0.xml\n",
      "Image:C:\\Users\\umair\\Tensorflow Gesture Rec\\TFGR\\Tensorflow\\workspace\\images\\collectedimages\\K\\K.6f5af0e0-9dad-11ee-8fae-d18594d139c0.jpg -> Annotation:C:/Users/umair/Tensorflow Gesture Rec/TFGR/Tensorflow/workspace/images/collectedimages/K\\K.6f5af0e0-9dad-11ee-8fae-d18594d139c0.xml\n",
      "Image:C:\\Users\\umair\\Tensorflow Gesture Rec\\TFGR\\Tensorflow\\workspace\\images\\collectedimages\\K\\K.71c50708-9dad-11ee-a1ec-d18594d139c0.jpg -> Annotation:C:/Users/umair/Tensorflow Gesture Rec/TFGR/Tensorflow/workspace/images/collectedimages/K\\K.71c50708-9dad-11ee-a1ec-d18594d139c0.xml\n",
      "Image:C:\\Users\\umair\\Tensorflow Gesture Rec\\TFGR\\Tensorflow\\workspace\\images\\collectedimages\\K\\K.72fa37f5-9dad-11ee-a938-d18594d139c0.jpg -> Annotation:C:/Users/umair/Tensorflow Gesture Rec/TFGR/Tensorflow/workspace/images/collectedimages/K\\K.72fa37f5-9dad-11ee-a938-d18594d139c0.xml\n",
      "Image:C:\\Users\\umair\\Tensorflow Gesture Rec\\TFGR\\Tensorflow\\workspace\\images\\collectedimages\\K\\K.497b2345-9dad-11ee-b8b2-d18594d139c0.jpg -> Annotation:C:/Users/umair/Tensorflow Gesture Rec/TFGR/Tensorflow/workspace/images/collectedimages/K\\K.497b2345-9dad-11ee-b8b2-d18594d139c0.xml\n",
      "Image:C:\\Users\\umair\\Tensorflow Gesture Rec\\TFGR\\Tensorflow\\workspace\\images\\collectedimages\\K\\K.582dbca4-9dad-11ee-a8ec-d18594d139c0.jpg -> Annotation:C:/Users/umair/Tensorflow Gesture Rec/TFGR/Tensorflow/workspace/images/collectedimages/K\\K.582dbca4-9dad-11ee-a8ec-d18594d139c0.xml\n",
      "Image:C:\\Users\\umair\\Tensorflow Gesture Rec\\TFGR\\Tensorflow\\workspace\\images\\collectedimages\\K\\K.708fe408-9dad-11ee-89c1-d18594d139c0.jpg -> Annotation:C:/Users/umair/Tensorflow Gesture Rec/TFGR/Tensorflow/workspace/images/collectedimages/K\\K.708fe408-9dad-11ee-89c1-d18594d139c0.xml\n",
      "Image:C:\\Users\\umair\\Tensorflow Gesture Rec\\TFGR\\Tensorflow\\workspace\\images\\collectedimages\\K\\K.4711eacd-9dad-11ee-9431-d18594d139c0.jpg -> Annotation:C:/Users/umair/Tensorflow Gesture Rec/TFGR/Tensorflow/workspace/images/collectedimages/K\\K.4711eacd-9dad-11ee-9431-d18594d139c0.xml\n",
      "Image:C:\\Users\\umair\\Tensorflow Gesture Rec\\TFGR\\Tensorflow\\workspace\\images\\collectedimages\\K\\K.59622e64-9dad-11ee-89dc-d18594d139c0.jpg -> Annotation:C:/Users/umair/Tensorflow Gesture Rec/TFGR/Tensorflow/workspace/images/collectedimages/K\\K.59622e64-9dad-11ee-89dc-d18594d139c0.xml\n",
      "Image:C:\\Users\\umair\\Tensorflow Gesture Rec\\TFGR\\Tensorflow\\workspace\\images\\collectedimages\\K\\K.48460948-9dad-11ee-ba36-d18594d139c0.jpg -> Annotation:C:/Users/umair/Tensorflow Gesture Rec/TFGR/Tensorflow/workspace/images/collectedimages/K\\K.48460948-9dad-11ee-ba36-d18594d139c0.xml\n",
      "Image:C:\\Users\\umair\\Tensorflow Gesture Rec\\TFGR\\Tensorflow\\workspace\\images\\collectedimages\\L\\L.b4b64833-9dad-11ee-921a-d18594d139c0.jpg -> Annotation:C:/Users/umair/Tensorflow Gesture Rec/TFGR/Tensorflow/workspace/images/collectedimages/L\\L.b4b64833-9dad-11ee-921a-d18594d139c0.xml\n",
      "Image:C:\\Users\\umair\\Tensorflow Gesture Rec\\TFGR\\Tensorflow\\workspace\\images\\collectedimages\\L\\L.b5ee0746-9dad-11ee-b58d-d18594d139c0.jpg -> Annotation:C:/Users/umair/Tensorflow Gesture Rec/TFGR/Tensorflow/workspace/images/collectedimages/L\\L.b5ee0746-9dad-11ee-b58d-d18594d139c0.xml\n",
      "Image:C:\\Users\\umair\\Tensorflow Gesture Rec\\TFGR\\Tensorflow\\workspace\\images\\collectedimages\\L\\L.b85b5187-9dad-11ee-addf-d18594d139c0.jpg -> Annotation:C:/Users/umair/Tensorflow Gesture Rec/TFGR/Tensorflow/workspace/images/collectedimages/L\\L.b85b5187-9dad-11ee-addf-d18594d139c0.xml\n",
      "Image:C:\\Users\\umair\\Tensorflow Gesture Rec\\TFGR\\Tensorflow\\workspace\\images\\collectedimages\\L\\L.b98ed849-9dad-11ee-9fc6-d18594d139c0.jpg -> Annotation:C:/Users/umair/Tensorflow Gesture Rec/TFGR/Tensorflow/workspace/images/collectedimages/L\\L.b98ed849-9dad-11ee-9fc6-d18594d139c0.xml\n",
      "Image:C:\\Users\\umair\\Tensorflow Gesture Rec\\TFGR\\Tensorflow\\workspace\\images\\collectedimages\\L\\L.b723960b-9dad-11ee-8553-d18594d139c0.jpg -> Annotation:C:/Users/umair/Tensorflow Gesture Rec/TFGR/Tensorflow/workspace/images/collectedimages/L\\L.b723960b-9dad-11ee-8553-d18594d139c0.xml\n",
      "Image:C:\\Users\\umair\\Tensorflow Gesture Rec\\TFGR\\Tensorflow\\workspace\\images\\collectedimages\\L\\L.bac50890-9dad-11ee-9b00-d18594d139c0.jpg -> Annotation:C:/Users/umair/Tensorflow Gesture Rec/TFGR/Tensorflow/workspace/images/collectedimages/L\\L.bac50890-9dad-11ee-9b00-d18594d139c0.xml\n",
      "Image:C:\\Users\\umair\\Tensorflow Gesture Rec\\TFGR\\Tensorflow\\workspace\\images\\collectedimages\\L\\L.bbf9ec21-9dad-11ee-a51d-d18594d139c0.jpg -> Annotation:C:/Users/umair/Tensorflow Gesture Rec/TFGR/Tensorflow/workspace/images/collectedimages/L\\L.bbf9ec21-9dad-11ee-a51d-d18594d139c0.xml\n",
      "Image:C:\\Users\\umair\\Tensorflow Gesture Rec\\TFGR\\Tensorflow\\workspace\\images\\collectedimages\\M\\M.1d48cdcf-9dae-11ee-a5ef-d18594d139c0.jpg -> Annotation:C:/Users/umair/Tensorflow Gesture Rec/TFGR/Tensorflow/workspace/images/collectedimages/M\\M.1d48cdcf-9dae-11ee-a5ef-d18594d139c0.xml\n",
      "Image:C:\\Users\\umair\\Tensorflow Gesture Rec\\TFGR\\Tensorflow\\workspace\\images\\collectedimages\\M\\M.1e816179-9dae-11ee-bb07-d18594d139c0.jpg -> Annotation:C:/Users/umair/Tensorflow Gesture Rec/TFGR/Tensorflow/workspace/images/collectedimages/M\\M.1e816179-9dae-11ee-bb07-d18594d139c0.xml\n",
      "Image:C:\\Users\\umair\\Tensorflow Gesture Rec\\TFGR\\Tensorflow\\workspace\\images\\collectedimages\\M\\M.1fb73559-9dae-11ee-9fa2-d18594d139c0.jpg -> Annotation:C:/Users/umair/Tensorflow Gesture Rec/TFGR/Tensorflow/workspace/images/collectedimages/M\\M.1fb73559-9dae-11ee-9fa2-d18594d139c0.xml\n",
      "Image:C:\\Users\\umair\\Tensorflow Gesture Rec\\TFGR\\Tensorflow\\workspace\\images\\collectedimages\\M\\M.02be4524-9dae-11ee-8a89-d18594d139c0.jpg -> Annotation:C:/Users/umair/Tensorflow Gesture Rec/TFGR/Tensorflow/workspace/images/collectedimages/M\\M.02be4524-9dae-11ee-8a89-d18594d139c0.xml\n",
      "Cancel creation.\n",
      "Image:C:\\Users\\umair\\Tensorflow Gesture Rec\\TFGR\\Tensorflow\\workspace\\images\\collectedimages\\M\\M.03f44936-9dae-11ee-bcb8-d18594d139c0.jpg -> Annotation:C:/Users/umair/Tensorflow Gesture Rec/TFGR/Tensorflow/workspace/images/collectedimages/M\\M.03f44936-9dae-11ee-bcb8-d18594d139c0.xml\n",
      "Image:C:\\Users\\umair\\Tensorflow Gesture Rec\\TFGR\\Tensorflow\\workspace\\images\\collectedimages\\M\\M.20ed0672-9dae-11ee-8e2b-d18594d139c0.jpg -> Annotation:C:/Users/umair/Tensorflow Gesture Rec/TFGR/Tensorflow/workspace/images/collectedimages/M\\M.20ed0672-9dae-11ee-8e2b-d18594d139c0.xml\n",
      "Image:C:\\Users\\umair\\Tensorflow Gesture Rec\\TFGR\\Tensorflow\\workspace\\images\\collectedimages\\M\\M.0051c508-9dae-11ee-838b-d18594d139c0.jpg -> Annotation:C:/Users/umair/Tensorflow Gesture Rec/TFGR/Tensorflow/workspace/images/collectedimages/M\\M.0051c508-9dae-11ee-838b-d18594d139c0.xml\n",
      "Image:C:\\Users\\umair\\Tensorflow Gesture Rec\\TFGR\\Tensorflow\\workspace\\images\\collectedimages\\M\\M.052a6f84-9dae-11ee-959d-d18594d139c0.jpg -> Annotation:C:/Users/umair/Tensorflow Gesture Rec/TFGR/Tensorflow/workspace/images/collectedimages/M\\M.052a6f84-9dae-11ee-959d-d18594d139c0.xml\n",
      "Image:C:\\Users\\umair\\Tensorflow Gesture Rec\\TFGR\\Tensorflow\\workspace\\images\\collectedimages\\M\\M.248e85d2-9dae-11ee-b599-d18594d139c0.jpg -> Annotation:C:/Users/umair/Tensorflow Gesture Rec/TFGR/Tensorflow/workspace/images/collectedimages/M\\M.248e85d2-9dae-11ee-b599-d18594d139c0.xml\n",
      "Image:C:\\Users\\umair\\Tensorflow Gesture Rec\\TFGR\\Tensorflow\\workspace\\images\\collectedimages\\M\\M.2222af2f-9dae-11ee-b337-d18594d139c0.jpg -> Annotation:C:/Users/umair/Tensorflow Gesture Rec/TFGR/Tensorflow/workspace/images/collectedimages/M\\M.2222af2f-9dae-11ee-b337-d18594d139c0.xml\n",
      "Image:C:\\Users\\umair\\Tensorflow Gesture Rec\\TFGR\\Tensorflow\\workspace\\images\\collectedimages\\M\\M.2358b5ad-9dae-11ee-85bc-d18594d139c0.jpg -> Annotation:C:/Users/umair/Tensorflow Gesture Rec/TFGR/Tensorflow/workspace/images/collectedimages/M\\M.2358b5ad-9dae-11ee-85bc-d18594d139c0.xml\n",
      "Image:C:\\Users\\umair\\Tensorflow Gesture Rec\\TFGR\\Tensorflow\\workspace\\images\\collectedimages\\M\\M.018851c5-9dae-11ee-85bb-d18594d139c0.jpg -> Annotation:C:/Users/umair/Tensorflow Gesture Rec/TFGR/Tensorflow/workspace/images/collectedimages/M\\M.018851c5-9dae-11ee-85bb-d18594d139c0.xml\n",
      "Image:C:\\Users\\umair\\Tensorflow Gesture Rec\\TFGR\\Tensorflow\\workspace\\images\\collectedimages\\M\\M.0662090d-9dae-11ee-89a9-d18594d139c0.jpg -> Annotation:C:/Users/umair/Tensorflow Gesture Rec/TFGR/Tensorflow/workspace/images/collectedimages/M\\M.0662090d-9dae-11ee-89a9-d18594d139c0.xml\n",
      "Image:C:\\Users\\umair\\Tensorflow Gesture Rec\\TFGR\\Tensorflow\\workspace\\images\\collectedimages\\M\\M.ff1b5203-9dad-11ee-b423-d18594d139c0.jpg -> Annotation:C:/Users/umair/Tensorflow Gesture Rec/TFGR/Tensorflow/workspace/images/collectedimages/M\\M.ff1b5203-9dad-11ee-b423-d18594d139c0.xml\n",
      "Image:C:\\Users\\umair\\Tensorflow Gesture Rec\\TFGR\\Tensorflow\\workspace\\images\\collectedimages\\N\\N.4a3657d5-9dae-11ee-85d4-d18594d139c0.jpg -> Annotation:C:/Users/umair/Tensorflow Gesture Rec/TFGR/Tensorflow/workspace/images/collectedimages/M\\N.4a3657d5-9dae-11ee-85d4-d18594d139c0.xml\n",
      "Cancel creation.\n",
      "Image:C:\\Users\\umair\\Tensorflow Gesture Rec\\TFGR\\Tensorflow\\workspace\\images\\collectedimages\\N\\N.4a3657d5-9dae-11ee-85d4-d18594d139c0.jpg -> Annotation:C:/Users/umair/Tensorflow Gesture Rec/TFGR/Tensorflow/workspace/images/collectedimages/M\\N.4a3657d5-9dae-11ee-85d4-d18594d139c0.xml\n",
      "Image:C:\\Users\\umair\\Tensorflow Gesture Rec\\TFGR\\Tensorflow\\workspace\\images\\collectedimages\\N\\N.4a3657d5-9dae-11ee-85d4-d18594d139c0.jpg -> Annotation:C:/Users/umair/Tensorflow Gesture Rec/TFGR/Tensorflow/workspace/images/collectedimages/N\\N.4a3657d5-9dae-11ee-85d4-d18594d139c0.xml\n",
      "Image:C:\\Users\\umair\\Tensorflow Gesture Rec\\TFGR\\Tensorflow\\workspace\\images\\collectedimages\\N\\N.42ee1e99-9dae-11ee-8abb-d18594d139c0.jpg -> Annotation:C:/Users/umair/Tensorflow Gesture Rec/TFGR/Tensorflow/workspace/images/collectedimages/N\\N.42ee1e99-9dae-11ee-8abb-d18594d139c0.xml\n",
      "Image:C:\\Users\\umair\\Tensorflow Gesture Rec\\TFGR\\Tensorflow\\workspace\\images\\collectedimages\\N\\N.47c7d567-9dae-11ee-8543-d18594d139c0.jpg -> Annotation:C:/Users/umair/Tensorflow Gesture Rec/TFGR/Tensorflow/workspace/images/collectedimages/N\\N.47c7d567-9dae-11ee-8543-d18594d139c0.xml\n",
      "Image:C:\\Users\\umair\\Tensorflow Gesture Rec\\TFGR\\Tensorflow\\workspace\\images\\collectedimages\\N\\N.48fdefee-9dae-11ee-9804-d18594d139c0.jpg -> Annotation:C:/Users/umair/Tensorflow Gesture Rec/TFGR/Tensorflow/workspace/images/collectedimages/N\\N.48fdefee-9dae-11ee-9804-d18594d139c0.xml\n",
      "Image:C:\\Users\\umair\\Tensorflow Gesture Rec\\TFGR\\Tensorflow\\workspace\\images\\collectedimages\\N\\N.455c8489-9dae-11ee-b39e-d18594d139c0.jpg -> Annotation:C:/Users/umair/Tensorflow Gesture Rec/TFGR/Tensorflow/workspace/images/collectedimages/N\\N.455c8489-9dae-11ee-b39e-d18594d139c0.xml\n",
      "Image:C:\\Users\\umair\\Tensorflow Gesture Rec\\TFGR\\Tensorflow\\workspace\\images\\collectedimages\\N\\N.468ffcf3-9dae-11ee-89cf-d18594d139c0.jpg -> Annotation:C:/Users/umair/Tensorflow Gesture Rec/TFGR/Tensorflow/workspace/images/collectedimages/N\\N.468ffcf3-9dae-11ee-89cf-d18594d139c0.xml\n",
      "Image:C:\\Users\\umair\\Tensorflow Gesture Rec\\TFGR\\Tensorflow\\workspace\\images\\collectedimages\\N\\N.442706bb-9dae-11ee-a8d9-d18594d139c0.jpg -> Annotation:C:/Users/umair/Tensorflow Gesture Rec/TFGR/Tensorflow/workspace/images/collectedimages/N\\N.442706bb-9dae-11ee-a8d9-d18594d139c0.xml\n",
      "Image:C:\\Users\\umair\\Tensorflow Gesture Rec\\TFGR\\Tensorflow\\workspace\\images\\collectedimages\\O\\O.6b1aeca2-9dae-11ee-842f-d18594d139c0.jpg -> Annotation:C:/Users/umair/Tensorflow Gesture Rec/TFGR/Tensorflow/workspace/images/collectedimages/O\\O.6b1aeca2-9dae-11ee-842f-d18594d139c0.xml\n",
      "Image:C:\\Users\\umair\\Tensorflow Gesture Rec\\TFGR\\Tensorflow\\workspace\\images\\collectedimages\\O\\O.6c507f0d-9dae-11ee-8547-d18594d139c0.jpg -> Annotation:C:/Users/umair/Tensorflow Gesture Rec/TFGR/Tensorflow/workspace/images/collectedimages/O\\O.6c507f0d-9dae-11ee-8547-d18594d139c0.xml\n",
      "Image:C:\\Users\\umair\\Tensorflow Gesture Rec\\TFGR\\Tensorflow\\workspace\\images\\collectedimages\\O\\O.6d864c22-9dae-11ee-af25-d18594d139c0.jpg -> Annotation:C:/Users/umair/Tensorflow Gesture Rec/TFGR/Tensorflow/workspace/images/collectedimages/O\\O.6d864c22-9dae-11ee-af25-d18594d139c0.xml\n",
      "Image:C:\\Users\\umair\\Tensorflow Gesture Rec\\TFGR\\Tensorflow\\workspace\\images\\collectedimages\\O\\O.6ebdde3e-9dae-11ee-a5c3-d18594d139c0.jpg -> Annotation:C:/Users/umair/Tensorflow Gesture Rec/TFGR/Tensorflow/workspace/images/collectedimages/O\\O.6ebdde3e-9dae-11ee-a5c3-d18594d139c0.xml\n",
      "Image:C:\\Users\\umair\\Tensorflow Gesture Rec\\TFGR\\Tensorflow\\workspace\\images\\collectedimages\\O\\O.6ff3cf43-9dae-11ee-ad9b-d18594d139c0.jpg -> Annotation:C:/Users/umair/Tensorflow Gesture Rec/TFGR/Tensorflow/workspace/images/collectedimages/O\\O.6ff3cf43-9dae-11ee-ad9b-d18594d139c0.xml\n",
      "Image:C:\\Users\\umair\\Tensorflow Gesture Rec\\TFGR\\Tensorflow\\workspace\\images\\collectedimages\\O\\O.68aff7a4-9dae-11ee-bb01-d18594d139c0.jpg -> Annotation:C:/Users/umair/Tensorflow Gesture Rec/TFGR/Tensorflow/workspace/images/collectedimages/O\\O.68aff7a4-9dae-11ee-bb01-d18594d139c0.xml\n",
      "Image:C:\\Users\\umair\\Tensorflow Gesture Rec\\TFGR\\Tensorflow\\workspace\\images\\collectedimages\\O\\O.69e65258-9dae-11ee-830b-d18594d139c0.jpg -> Annotation:C:/Users/umair/Tensorflow Gesture Rec/TFGR/Tensorflow/workspace/images/collectedimages/O\\O.69e65258-9dae-11ee-830b-d18594d139c0.xml\n",
      "Image:C:\\Users\\umair\\Tensorflow Gesture Rec\\TFGR\\Tensorflow\\workspace\\images\\collectedimages\\P\\P.93ae7fa4-9dae-11ee-9cd0-d18594d139c0.jpg -> Annotation:C:/Users/umair/Tensorflow Gesture Rec/TFGR/Tensorflow/workspace/images/collectedimages/P\\P.93ae7fa4-9dae-11ee-9cd0-d18594d139c0.xml\n",
      "Image:C:\\Users\\umair\\Tensorflow Gesture Rec\\TFGR\\Tensorflow\\workspace\\images\\collectedimages\\P\\P.94e31e18-9dae-11ee-8e67-d18594d139c0.jpg -> Annotation:C:/Users/umair/Tensorflow Gesture Rec/TFGR/Tensorflow/workspace/images/collectedimages/P\\P.94e31e18-9dae-11ee-8e67-d18594d139c0.xml\n",
      "Image:C:\\Users\\umair\\Tensorflow Gesture Rec\\TFGR\\Tensorflow\\workspace\\images\\collectedimages\\P\\P.900d9a14-9dae-11ee-ba22-d18594d139c0.jpg -> Annotation:C:/Users/umair/Tensorflow Gesture Rec/TFGR/Tensorflow/workspace/images/collectedimages/P\\P.900d9a14-9dae-11ee-ba22-d18594d139c0.xml\n",
      "Image:C:\\Users\\umair\\Tensorflow Gesture Rec\\TFGR\\Tensorflow\\workspace\\images\\collectedimages\\P\\P.974f9361-9dae-11ee-8b26-d18594d139c0.jpg -> Annotation:C:/Users/umair/Tensorflow Gesture Rec/TFGR/Tensorflow/workspace/images/collectedimages/P\\P.974f9361-9dae-11ee-8b26-d18594d139c0.xml\n",
      "Image:C:\\Users\\umair\\Tensorflow Gesture Rec\\TFGR\\Tensorflow\\workspace\\images\\collectedimages\\P\\P.9145e884-9dae-11ee-bf1c-d18594d139c0.jpg -> Annotation:C:/Users/umair/Tensorflow Gesture Rec/TFGR/Tensorflow/workspace/images/collectedimages/P\\P.9145e884-9dae-11ee-bf1c-d18594d139c0.xml\n",
      "Image:C:\\Users\\umair\\Tensorflow Gesture Rec\\TFGR\\Tensorflow\\workspace\\images\\collectedimages\\P\\P.96199e31-9dae-11ee-9987-d18594d139c0.jpg -> Annotation:C:/Users/umair/Tensorflow Gesture Rec/TFGR/Tensorflow/workspace/images/collectedimages/P\\P.96199e31-9dae-11ee-9987-d18594d139c0.xml\n",
      "Image:C:\\Users\\umair\\Tensorflow Gesture Rec\\TFGR\\Tensorflow\\workspace\\images\\collectedimages\\P\\P.9279331b-9dae-11ee-b639-d18594d139c0.jpg -> Annotation:C:/Users/umair/Tensorflow Gesture Rec/TFGR/Tensorflow/workspace/images/collectedimages/P\\P.9279331b-9dae-11ee-b639-d18594d139c0.xml\n",
      "Image:C:\\Users\\umair\\Tensorflow Gesture Rec\\TFGR\\Tensorflow\\workspace\\images\\collectedimages\\P\\P.b0ecf31e-9dae-11ee-a4f3-d18594d139c0.jpg -> Annotation:C:/Users/umair/Tensorflow Gesture Rec/TFGR/Tensorflow/workspace/images/collectedimages/P\\P.b0ecf31e-9dae-11ee-a4f3-d18594d139c0.xml\n",
      "Image:C:\\Users\\umair\\Tensorflow Gesture Rec\\TFGR\\Tensorflow\\workspace\\images\\collectedimages\\P\\P.b5c5bc02-9dae-11ee-9328-d18594d139c0.jpg -> Annotation:C:/Users/umair/Tensorflow Gesture Rec/TFGR/Tensorflow/workspace/images/collectedimages/P\\P.b5c5bc02-9dae-11ee-9328-d18594d139c0.xml\n",
      "Image:C:\\Users\\umair\\Tensorflow Gesture Rec\\TFGR\\Tensorflow\\workspace\\images\\collectedimages\\P\\P.b6fa8863-9dae-11ee-8d1d-d18594d139c0.jpg -> Annotation:C:/Users/umair/Tensorflow Gesture Rec/TFGR/Tensorflow/workspace/images/collectedimages/P\\P.b6fa8863-9dae-11ee-8d1d-d18594d139c0.xml\n",
      "Image:C:\\Users\\umair\\Tensorflow Gesture Rec\\TFGR\\Tensorflow\\workspace\\images\\collectedimages\\P\\P.b48e1a4b-9dae-11ee-9095-d18594d139c0.jpg -> Annotation:C:/Users/umair/Tensorflow Gesture Rec/TFGR/Tensorflow/workspace/images/collectedimages/P\\P.b48e1a4b-9dae-11ee-9095-d18594d139c0.xml\n",
      "Image:C:\\Users\\umair\\Tensorflow Gesture Rec\\TFGR\\Tensorflow\\workspace\\images\\collectedimages\\P\\P.b82f65e3-9dae-11ee-900f-d18594d139c0.jpg -> Annotation:C:/Users/umair/Tensorflow Gesture Rec/TFGR/Tensorflow/workspace/images/collectedimages/P\\P.b82f65e3-9dae-11ee-900f-d18594d139c0.xml\n",
      "Image:C:\\Users\\umair\\Tensorflow Gesture Rec\\TFGR\\Tensorflow\\workspace\\images\\collectedimages\\P\\P.b224bc24-9dae-11ee-be32-d18594d139c0.jpg -> Annotation:C:/Users/umair/Tensorflow Gesture Rec/TFGR/Tensorflow/workspace/images/collectedimages/P\\P.b224bc24-9dae-11ee-be32-d18594d139c0.xml\n",
      "Image:C:\\Users\\umair\\Tensorflow Gesture Rec\\TFGR\\Tensorflow\\workspace\\images\\collectedimages\\P\\P.b3597233-9dae-11ee-8b95-d18594d139c0.jpg -> Annotation:C:/Users/umair/Tensorflow Gesture Rec/TFGR/Tensorflow/workspace/images/collectedimages/P\\P.b3597233-9dae-11ee-8b95-d18594d139c0.xml\n",
      "Image:C:\\Users\\umair\\Tensorflow Gesture Rec\\TFGR\\Tensorflow\\workspace\\images\\collectedimages\\Q\\Q.d4b96052-9dae-11ee-a84a-d18594d139c0.jpg -> Annotation:C:/Users/umair/Tensorflow Gesture Rec/TFGR/Tensorflow/workspace/images/collectedimages/Q\\Q.d4b96052-9dae-11ee-a84a-d18594d139c0.xml\n",
      "Image:C:\\Users\\umair\\Tensorflow Gesture Rec\\TFGR\\Tensorflow\\workspace\\images\\collectedimages\\Q\\Q.d5ee3a39-9dae-11ee-8d2b-d18594d139c0.jpg -> Annotation:C:/Users/umair/Tensorflow Gesture Rec/TFGR/Tensorflow/workspace/images/collectedimages/Q\\Q.d5ee3a39-9dae-11ee-8d2b-d18594d139c0.xml\n",
      "Image:C:\\Users\\umair\\Tensorflow Gesture Rec\\TFGR\\Tensorflow\\workspace\\images\\collectedimages\\Q\\Q.d24e6996-9dae-11ee-b611-d18594d139c0.jpg -> Annotation:C:/Users/umair/Tensorflow Gesture Rec/TFGR/Tensorflow/workspace/images/collectedimages/Q\\Q.d24e6996-9dae-11ee-b611-d18594d139c0.xml\n",
      "Image:C:\\Users\\umair\\Tensorflow Gesture Rec\\TFGR\\Tensorflow\\workspace\\images\\collectedimages\\Q\\Q.d117e93f-9dae-11ee-afbd-d18594d139c0.jpg -> Annotation:C:/Users/umair/Tensorflow Gesture Rec/TFGR/Tensorflow/workspace/images/collectedimages/Q\\Q.d117e93f-9dae-11ee-afbd-d18594d139c0.xml\n",
      "Image:C:\\Users\\umair\\Tensorflow Gesture Rec\\TFGR\\Tensorflow\\workspace\\images\\collectedimages\\Q\\Q.d724e664-9dae-11ee-9ebf-d18594d139c0.jpg -> Annotation:C:/Users/umair/Tensorflow Gesture Rec/TFGR/Tensorflow/workspace/images/collectedimages/Q\\Q.d724e664-9dae-11ee-9ebf-d18594d139c0.xml\n",
      "Image:C:\\Users\\umair\\Tensorflow Gesture Rec\\TFGR\\Tensorflow\\workspace\\images\\collectedimages\\Q\\Q.d859f664-9dae-11ee-8d1f-d18594d139c0.jpg -> Annotation:C:/Users/umair/Tensorflow Gesture Rec/TFGR/Tensorflow/workspace/images/collectedimages/Q\\Q.d859f664-9dae-11ee-8d1f-d18594d139c0.xml\n",
      "Image:C:\\Users\\umair\\Tensorflow Gesture Rec\\TFGR\\Tensorflow\\workspace\\images\\collectedimages\\Q\\Q.d3844b0b-9dae-11ee-b9b3-d18594d139c0.jpg -> Annotation:C:/Users/umair/Tensorflow Gesture Rec/TFGR/Tensorflow/workspace/images/collectedimages/Q\\Q.d3844b0b-9dae-11ee-b9b3-d18594d139c0.xml\n",
      "Image:C:\\Users\\umair\\Tensorflow Gesture Rec\\TFGR\\Tensorflow\\workspace\\images\\collectedimages\\R\\R.3a880c92-9daf-11ee-90f1-d18594d139c0.jpg -> Annotation:C:/Users/umair/Tensorflow Gesture Rec/TFGR/Tensorflow/workspace/images/collectedimages/R\\R.3a880c92-9daf-11ee-90f1-d18594d139c0.xml\n",
      "Image:C:\\Users\\umair\\Tensorflow Gesture Rec\\TFGR\\Tensorflow\\workspace\\images\\collectedimages\\R\\R.3bbdb3cb-9daf-11ee-a957-d18594d139c0.jpg -> Annotation:C:/Users/umair/Tensorflow Gesture Rec/TFGR/Tensorflow/workspace/images/collectedimages/R\\R.3bbdb3cb-9daf-11ee-a957-d18594d139c0.xml\n",
      "Image:C:\\Users\\umair\\Tensorflow Gesture Rec\\TFGR\\Tensorflow\\workspace\\images\\collectedimages\\R\\R.3cf468c2-9daf-11ee-8cd5-d18594d139c0.jpg -> Annotation:C:/Users/umair/Tensorflow Gesture Rec/TFGR/Tensorflow/workspace/images/collectedimages/R\\R.3cf468c2-9daf-11ee-8cd5-d18594d139c0.xml\n",
      "Image:C:\\Users\\umair\\Tensorflow Gesture Rec\\TFGR\\Tensorflow\\workspace\\images\\collectedimages\\R\\R.3e2a0514-9daf-11ee-bc23-d18594d139c0.jpg -> Annotation:C:/Users/umair/Tensorflow Gesture Rec/TFGR/Tensorflow/workspace/images/collectedimages/R\\R.3e2a0514-9daf-11ee-bc23-d18594d139c0.xml\n",
      "Image:C:\\Users\\umair\\Tensorflow Gesture Rec\\TFGR\\Tensorflow\\workspace\\images\\collectedimages\\R\\R.3f5f79bf-9daf-11ee-89ac-d18594d139c0.jpg -> Annotation:C:/Users/umair/Tensorflow Gesture Rec/TFGR/Tensorflow/workspace/images/collectedimages/R\\R.3f5f79bf-9daf-11ee-89ac-d18594d139c0.xml\n",
      "Image:C:\\Users\\umair\\Tensorflow Gesture Rec\\TFGR\\Tensorflow\\workspace\\images\\collectedimages\\R\\R.4a6e4fd2-9daf-11ee-877a-d18594d139c0.jpg -> Annotation:C:/Users/umair/Tensorflow Gesture Rec/TFGR/Tensorflow/workspace/images/collectedimages/R\\R.4a6e4fd2-9daf-11ee-877a-d18594d139c0.xml\n",
      "Image:C:\\Users\\umair\\Tensorflow Gesture Rec\\TFGR\\Tensorflow\\workspace\\images\\collectedimages\\R\\R.4ba4dc72-9daf-11ee-b947-d18594d139c0.jpg -> Annotation:C:/Users/umair/Tensorflow Gesture Rec/TFGR/Tensorflow/workspace/images/collectedimages/R\\R.4ba4dc72-9daf-11ee-b947-d18594d139c0.xml\n",
      "Image:C:\\Users\\umair\\Tensorflow Gesture Rec\\TFGR\\Tensorflow\\workspace\\images\\collectedimages\\R\\R.4cdc0ec5-9daf-11ee-a938-d18594d139c0.jpg -> Annotation:C:/Users/umair/Tensorflow Gesture Rec/TFGR/Tensorflow/workspace/images/collectedimages/R\\R.4cdc0ec5-9daf-11ee-a938-d18594d139c0.xml\n",
      "Image:C:\\Users\\umair\\Tensorflow Gesture Rec\\TFGR\\Tensorflow\\workspace\\images\\collectedimages\\R\\R.4e11c88e-9daf-11ee-b744-d18594d139c0.jpg -> Annotation:C:/Users/umair/Tensorflow Gesture Rec/TFGR/Tensorflow/workspace/images/collectedimages/R\\R.4e11c88e-9daf-11ee-b744-d18594d139c0.xml\n",
      "Image:C:\\Users\\umair\\Tensorflow Gesture Rec\\TFGR\\Tensorflow\\workspace\\images\\collectedimages\\R\\R.46c89e4c-9daf-11ee-b97e-d18594d139c0.jpg -> Annotation:C:/Users/umair/Tensorflow Gesture Rec/TFGR/Tensorflow/workspace/images/collectedimages/R\\R.46c89e4c-9daf-11ee-b97e-d18594d139c0.xml\n",
      "Image:C:\\Users\\umair\\Tensorflow Gesture Rec\\TFGR\\Tensorflow\\workspace\\images\\collectedimages\\R\\R.4937d4a5-9daf-11ee-89e0-d18594d139c0.jpg -> Annotation:C:/Users/umair/Tensorflow Gesture Rec/TFGR/Tensorflow/workspace/images/collectedimages/R\\R.4937d4a5-9daf-11ee-89e0-d18594d139c0.xml\n",
      "Image:C:\\Users\\umair\\Tensorflow Gesture Rec\\TFGR\\Tensorflow\\workspace\\images\\collectedimages\\R\\R.48007aaf-9daf-11ee-9f81-d18594d139c0.jpg -> Annotation:C:/Users/umair/Tensorflow Gesture Rec/TFGR/Tensorflow/workspace/images/collectedimages/R\\R.48007aaf-9daf-11ee-9f81-d18594d139c0.xml\n",
      "Image:C:\\Users\\umair\\Tensorflow Gesture Rec\\TFGR\\Tensorflow\\workspace\\images\\collectedimages\\R\\R.39506165-9daf-11ee-9e23-d18594d139c0.jpg -> Annotation:C:/Users/umair/Tensorflow Gesture Rec/TFGR/Tensorflow/workspace/images/collectedimages/R\\R.39506165-9daf-11ee-9e23-d18594d139c0.xml\n",
      "Cancel creation.\n",
      "Image:C:\\Users\\umair\\Tensorflow Gesture Rec\\TFGR\\Tensorflow\\workspace\\images\\collectedimages\\R\\R.40959014-9daf-11ee-9606-d18594d139c0.jpg -> Annotation:C:/Users/umair/Tensorflow Gesture Rec/TFGR/Tensorflow/workspace/images/collectedimages/R\\R.40959014-9daf-11ee-9606-d18594d139c0.xml\n",
      "Image:C:\\Users\\umair\\Tensorflow Gesture Rec\\TFGR\\Tensorflow\\workspace\\images\\collectedimages\\S\\S.8f63344f-9daf-11ee-8be8-d18594d139c0.jpg -> Annotation:C:/Users/umair/Tensorflow Gesture Rec/TFGR/Tensorflow/workspace/images/collectedimages/S\\S.8f63344f-9daf-11ee-8be8-d18594d139c0.xml\n",
      "Image:C:\\Users\\umair\\Tensorflow Gesture Rec\\TFGR\\Tensorflow\\workspace\\images\\collectedimages\\S\\S.91d0de89-9daf-11ee-aa97-d18594d139c0.jpg -> Annotation:C:/Users/umair/Tensorflow Gesture Rec/TFGR/Tensorflow/workspace/images/collectedimages/S\\S.91d0de89-9daf-11ee-aa97-d18594d139c0.xml\n",
      "Image:C:\\Users\\umair\\Tensorflow Gesture Rec\\TFGR\\Tensorflow\\workspace\\images\\collectedimages\\S\\S.96aa2ea8-9daf-11ee-a173-d18594d139c0.jpg -> Annotation:C:/Users/umair/Tensorflow Gesture Rec/TFGR/Tensorflow/workspace/images/collectedimages/S\\S.96aa2ea8-9daf-11ee-a173-d18594d139c0.xml\n",
      "Image:C:\\Users\\umair\\Tensorflow Gesture Rec\\TFGR\\Tensorflow\\workspace\\images\\collectedimages\\S\\S.909acbd6-9daf-11ee-89ff-d18594d139c0.jpg -> Annotation:C:/Users/umair/Tensorflow Gesture Rec/TFGR/Tensorflow/workspace/images/collectedimages/S\\S.909acbd6-9daf-11ee-89ff-d18594d139c0.xml\n",
      "Image:C:\\Users\\umair\\Tensorflow Gesture Rec\\TFGR\\Tensorflow\\workspace\\images\\collectedimages\\S\\S.943c57ba-9daf-11ee-91f0-d18594d139c0.jpg -> Annotation:C:/Users/umair/Tensorflow Gesture Rec/TFGR/Tensorflow/workspace/images/collectedimages/S\\S.943c57ba-9daf-11ee-91f0-d18594d139c0.xml\n",
      "Image:C:\\Users\\umair\\Tensorflow Gesture Rec\\TFGR\\Tensorflow\\workspace\\images\\collectedimages\\S\\S.9306f7ae-9daf-11ee-898a-d18594d139c0.jpg -> Annotation:C:/Users/umair/Tensorflow Gesture Rec/TFGR/Tensorflow/workspace/images/collectedimages/S\\S.9306f7ae-9daf-11ee-898a-d18594d139c0.xml\n",
      "Image:C:\\Users\\umair\\Tensorflow Gesture Rec\\TFGR\\Tensorflow\\workspace\\images\\collectedimages\\S\\S.95724e5e-9daf-11ee-9317-d18594d139c0.jpg -> Annotation:C:/Users/umair/Tensorflow Gesture Rec/TFGR/Tensorflow/workspace/images/collectedimages/S\\S.95724e5e-9daf-11ee-9317-d18594d139c0.xml\n",
      "Image:C:\\Users\\umair\\Tensorflow Gesture Rec\\TFGR\\Tensorflow\\workspace\\images\\collectedimages\\T\\T.afc9882f-9daf-11ee-8617-d18594d139c0.jpg -> Annotation:C:/Users/umair/Tensorflow Gesture Rec/TFGR/Tensorflow/workspace/images/collectedimages/T\\T.afc9882f-9daf-11ee-8617-d18594d139c0.xml\n",
      "Image:C:\\Users\\umair\\Tensorflow Gesture Rec\\TFGR\\Tensorflow\\workspace\\images\\collectedimages\\T\\T.b4a21bf8-9daf-11ee-9df5-d18594d139c0.jpg -> Annotation:C:/Users/umair/Tensorflow Gesture Rec/TFGR/Tensorflow/workspace/images/collectedimages/T\\T.b4a21bf8-9daf-11ee-9df5-d18594d139c0.xml\n",
      "Image:C:\\Users\\umair\\Tensorflow Gesture Rec\\TFGR\\Tensorflow\\workspace\\images\\collectedimages\\T\\T.b5d96ce2-9daf-11ee-abe4-d18594d139c0.jpg -> Annotation:C:/Users/umair/Tensorflow Gesture Rec/TFGR/Tensorflow/workspace/images/collectedimages/T\\T.b5d96ce2-9daf-11ee-abe4-d18594d139c0.xml\n",
      "Image:C:\\Users\\umair\\Tensorflow Gesture Rec\\TFGR\\Tensorflow\\workspace\\images\\collectedimages\\T\\T.b36c2720-9daf-11ee-98ed-d18594d139c0.jpg -> Annotation:C:/Users/umair/Tensorflow Gesture Rec/TFGR/Tensorflow/workspace/images/collectedimages/T\\T.b36c2720-9daf-11ee-98ed-d18594d139c0.xml\n",
      "Image:C:\\Users\\umair\\Tensorflow Gesture Rec\\TFGR\\Tensorflow\\workspace\\images\\collectedimages\\T\\T.b70f0a06-9daf-11ee-ac9c-d18594d139c0.jpg -> Annotation:C:/Users/umair/Tensorflow Gesture Rec/TFGR/Tensorflow/workspace/images/collectedimages/T\\T.b70f0a06-9daf-11ee-ac9c-d18594d139c0.xml\n",
      "Image:C:\\Users\\umair\\Tensorflow Gesture Rec\\TFGR\\Tensorflow\\workspace\\images\\collectedimages\\T\\T.b100d900-9daf-11ee-ae14-d18594d139c0.jpg -> Annotation:C:/Users/umair/Tensorflow Gesture Rec/TFGR/Tensorflow/workspace/images/collectedimages/T\\T.b100d900-9daf-11ee-ae14-d18594d139c0.xml\n",
      "Image:C:\\Users\\umair\\Tensorflow Gesture Rec\\TFGR\\Tensorflow\\workspace\\images\\collectedimages\\T\\T.b236dc83-9daf-11ee-a207-d18594d139c0.jpg -> Annotation:C:/Users/umair/Tensorflow Gesture Rec/TFGR/Tensorflow/workspace/images/collectedimages/T\\T.b236dc83-9daf-11ee-a207-d18594d139c0.xml\n",
      "Image:C:\\Users\\umair\\Tensorflow Gesture Rec\\TFGR\\Tensorflow\\workspace\\images\\collectedimages\\T\\T.bd8f6ae5-9daf-11ee-ada0-d18594d139c0.jpg -> Annotation:C:/Users/umair/Tensorflow Gesture Rec/TFGR/Tensorflow/workspace/images/collectedimages/T\\T.bd8f6ae5-9daf-11ee-ada0-d18594d139c0.xml\n",
      "Image:C:\\Users\\umair\\Tensorflow Gesture Rec\\TFGR\\Tensorflow\\workspace\\images\\collectedimages\\T\\T.bec72ec5-9daf-11ee-8d6f-d18594d139c0.jpg -> Annotation:C:/Users/umair/Tensorflow Gesture Rec/TFGR/Tensorflow/workspace/images/collectedimages/T\\T.bec72ec5-9daf-11ee-8d6f-d18594d139c0.xml\n",
      "Image:C:\\Users\\umair\\Tensorflow Gesture Rec\\TFGR\\Tensorflow\\workspace\\images\\collectedimages\\T\\T.bffd68df-9daf-11ee-8bb0-d18594d139c0.jpg -> Annotation:C:/Users/umair/Tensorflow Gesture Rec/TFGR/Tensorflow/workspace/images/collectedimages/T\\T.bffd68df-9daf-11ee-8bb0-d18594d139c0.xml\n",
      "Image:C:\\Users\\umair\\Tensorflow Gesture Rec\\TFGR\\Tensorflow\\workspace\\images\\collectedimages\\T\\T.c4d68ce2-9daf-11ee-92ef-d18594d139c0.jpg -> Annotation:C:/Users/umair/Tensorflow Gesture Rec/TFGR/Tensorflow/workspace/images/collectedimages/T\\T.c4d68ce2-9daf-11ee-92ef-d18594d139c0.xml\n",
      "Image:C:\\Users\\umair\\Tensorflow Gesture Rec\\TFGR\\Tensorflow\\workspace\\images\\collectedimages\\T\\T.c39ee6d0-9daf-11ee-a95d-d18594d139c0.jpg -> Annotation:C:/Users/umair/Tensorflow Gesture Rec/TFGR/Tensorflow/workspace/images/collectedimages/T\\T.c39ee6d0-9daf-11ee-a95d-d18594d139c0.xml\n",
      "Image:C:\\Users\\umair\\Tensorflow Gesture Rec\\TFGR\\Tensorflow\\workspace\\images\\collectedimages\\T\\T.c13353f1-9daf-11ee-842f-d18594d139c0.jpg -> Annotation:C:/Users/umair/Tensorflow Gesture Rec/TFGR/Tensorflow/workspace/images/collectedimages/T\\T.c13353f1-9daf-11ee-842f-d18594d139c0.xml\n",
      "Image:C:\\Users\\umair\\Tensorflow Gesture Rec\\TFGR\\Tensorflow\\workspace\\images\\collectedimages\\T\\T.c2695646-9daf-11ee-a4c1-d18594d139c0.jpg -> Annotation:C:/Users/umair/Tensorflow Gesture Rec/TFGR/Tensorflow/workspace/images/collectedimages/T\\T.c2695646-9daf-11ee-a4c1-d18594d139c0.xml\n",
      "Image:C:\\Users\\umair\\Tensorflow Gesture Rec\\TFGR\\Tensorflow\\workspace\\images\\collectedimages\\U\\U.de0e0cad-9daf-11ee-9b6f-d18594d139c0.jpg -> Annotation:C:/Users/umair/Tensorflow Gesture Rec/TFGR/Tensorflow/workspace/images/collectedimages/U\\U.de0e0cad-9daf-11ee-9b6f-d18594d139c0.xml\n",
      "Image:C:\\Users\\umair\\Tensorflow Gesture Rec\\TFGR\\Tensorflow\\workspace\\images\\collectedimages\\U\\U.df43f058-9daf-11ee-a280-d18594d139c0.jpg -> Annotation:C:/Users/umair/Tensorflow Gesture Rec/TFGR/Tensorflow/workspace/images/collectedimages/U\\U.df43f058-9daf-11ee-a280-d18594d139c0.xml\n",
      "Image:C:\\Users\\umair\\Tensorflow Gesture Rec\\TFGR\\Tensorflow\\workspace\\images\\collectedimages\\U\\U.e1b164a3-9daf-11ee-a8cf-d18594d139c0.jpg -> Annotation:C:/Users/umair/Tensorflow Gesture Rec/TFGR/Tensorflow/workspace/images/collectedimages/U\\U.e1b164a3-9daf-11ee-a8cf-d18594d139c0.xml\n",
      "Image:C:\\Users\\umair\\Tensorflow Gesture Rec\\TFGR\\Tensorflow\\workspace\\images\\collectedimages\\U\\U.e2e80535-9daf-11ee-8f00-d18594d139c0.jpg -> Annotation:C:/Users/umair/Tensorflow Gesture Rec/TFGR/Tensorflow/workspace/images/collectedimages/U\\U.e2e80535-9daf-11ee-8f00-d18594d139c0.xml\n",
      "Image:C:\\Users\\umair\\Tensorflow Gesture Rec\\TFGR\\Tensorflow\\workspace\\images\\collectedimages\\U\\U.e07b874f-9daf-11ee-a905-d18594d139c0.jpg -> Annotation:C:/Users/umair/Tensorflow Gesture Rec/TFGR/Tensorflow/workspace/images/collectedimages/U\\U.e07b874f-9daf-11ee-a905-d18594d139c0.xml\n",
      "Image:C:\\Users\\umair\\Tensorflow Gesture Rec\\TFGR\\Tensorflow\\workspace\\images\\collectedimages\\U\\U.e41d4a77-9daf-11ee-a32a-d18594d139c0.jpg -> Annotation:C:/Users/umair/Tensorflow Gesture Rec/TFGR/Tensorflow/workspace/images/collectedimages/U\\U.e41d4a77-9daf-11ee-a32a-d18594d139c0.xml\n",
      "Image:C:\\Users\\umair\\Tensorflow Gesture Rec\\TFGR\\Tensorflow\\workspace\\images\\collectedimages\\U\\U.e55252a0-9daf-11ee-845e-d18594d139c0.jpg -> Annotation:C:/Users/umair/Tensorflow Gesture Rec/TFGR/Tensorflow/workspace/images/collectedimages/U\\U.e55252a0-9daf-11ee-845e-d18594d139c0.xml\n",
      "Image:C:\\Users\\umair\\Tensorflow Gesture Rec\\TFGR\\Tensorflow\\workspace\\images\\collectedimages\\U\\U.ee42a31c-9daf-11ee-951d-d18594d139c0.jpg -> Annotation:C:/Users/umair/Tensorflow Gesture Rec/TFGR/Tensorflow/workspace/images/collectedimages/U\\U.ee42a31c-9daf-11ee-951d-d18594d139c0.xml\n",
      "Image:C:\\Users\\umair\\Tensorflow Gesture Rec\\TFGR\\Tensorflow\\workspace\\images\\collectedimages\\U\\U.ef7a19da-9daf-11ee-8df1-d18594d139c0.jpg -> Annotation:C:/Users/umair/Tensorflow Gesture Rec/TFGR/Tensorflow/workspace/images/collectedimages/U\\U.ef7a19da-9daf-11ee-8df1-d18594d139c0.xml\n",
      "Image:C:\\Users\\umair\\Tensorflow Gesture Rec\\TFGR\\Tensorflow\\workspace\\images\\collectedimages\\U\\U.f0b06d00-9daf-11ee-bb61-d18594d139c0.jpg -> Annotation:C:/Users/umair/Tensorflow Gesture Rec/TFGR/Tensorflow/workspace/images/collectedimages/U\\U.f0b06d00-9daf-11ee-bb61-d18594d139c0.xml\n",
      "Image:C:\\Users\\umair\\Tensorflow Gesture Rec\\TFGR\\Tensorflow\\workspace\\images\\collectedimages\\U\\U.f1e86da7-9daf-11ee-bbf1-d18594d139c0.jpg -> Annotation:C:/Users/umair/Tensorflow Gesture Rec/TFGR/Tensorflow/workspace/images/collectedimages/U\\U.f1e86da7-9daf-11ee-bbf1-d18594d139c0.xml\n",
      "Image:C:\\Users\\umair\\Tensorflow Gesture Rec\\TFGR\\Tensorflow\\workspace\\images\\collectedimages\\U\\U.f31ef746-9daf-11ee-9b3d-d18594d139c0.jpg -> Annotation:C:/Users/umair/Tensorflow Gesture Rec/TFGR/Tensorflow/workspace/images/collectedimages/U\\U.f31ef746-9daf-11ee-9b3d-d18594d139c0.xml\n",
      "Image:C:\\Users\\umair\\Tensorflow Gesture Rec\\TFGR\\Tensorflow\\workspace\\images\\collectedimages\\U\\U.f453d4d6-9daf-11ee-9879-d18594d139c0.jpg -> Annotation:C:/Users/umair/Tensorflow Gesture Rec/TFGR/Tensorflow/workspace/images/collectedimages/U\\U.f453d4d6-9daf-11ee-9879-d18594d139c0.xml\n",
      "Image:C:\\Users\\umair\\Tensorflow Gesture Rec\\TFGR\\Tensorflow\\workspace\\images\\collectedimages\\U\\U.f589bc85-9daf-11ee-bb4e-d18594d139c0.jpg -> Annotation:C:/Users/umair/Tensorflow Gesture Rec/TFGR/Tensorflow/workspace/images/collectedimages/U\\U.f589bc85-9daf-11ee-bb4e-d18594d139c0.xml\n",
      "Image:C:\\Users\\umair\\Tensorflow Gesture Rec\\TFGR\\Tensorflow\\workspace\\images\\collectedimages\\V\\V.01a36ad1-9db0-11ee-82de-d18594d139c0.jpg -> Annotation:C:/Users/umair/Tensorflow Gesture Rec/TFGR/Tensorflow/workspace/images/collectedimages/V\\V.01a36ad1-9db0-11ee-82de-d18594d139c0.xml\n",
      "Image:C:\\Users\\umair\\Tensorflow Gesture Rec\\TFGR\\Tensorflow\\workspace\\images\\collectedimages\\V\\V.02da283c-9db0-11ee-a76a-d18594d139c0.jpg -> Annotation:C:/Users/umair/Tensorflow Gesture Rec/TFGR/Tensorflow/workspace/images/collectedimages/V\\V.02da283c-9db0-11ee-a76a-d18594d139c0.xml\n",
      "Image:C:\\Users\\umair\\Tensorflow Gesture Rec\\TFGR\\Tensorflow\\workspace\\images\\collectedimages\\V\\V.006c841d-9db0-11ee-b0cd-d18594d139c0.jpg -> Annotation:C:/Users/umair/Tensorflow Gesture Rec/TFGR/Tensorflow/workspace/images/collectedimages/V\\V.006c841d-9db0-11ee-b0cd-d18594d139c0.xml\n",
      "Image:C:\\Users\\umair\\Tensorflow Gesture Rec\\TFGR\\Tensorflow\\workspace\\images\\collectedimages\\V\\V.07b112e3-9db0-11ee-bf04-d18594d139c0.jpg -> Annotation:C:/Users/umair/Tensorflow Gesture Rec/TFGR/Tensorflow/workspace/images/collectedimages/V\\V.07b112e3-9db0-11ee-bf04-d18594d139c0.xml\n",
      "Image:C:\\Users\\umair\\Tensorflow Gesture Rec\\TFGR\\Tensorflow\\workspace\\images\\collectedimages\\V\\V.067b0bd7-9db0-11ee-859b-d18594d139c0.jpg -> Annotation:C:/Users/umair/Tensorflow Gesture Rec/TFGR/Tensorflow/workspace/images/collectedimages/V\\V.067b0bd7-9db0-11ee-859b-d18594d139c0.xml\n",
      "Image:C:\\Users\\umair\\Tensorflow Gesture Rec\\TFGR\\Tensorflow\\workspace\\images\\collectedimages\\V\\V.0410e11a-9db0-11ee-a64c-d18594d139c0.jpg -> Annotation:C:/Users/umair/Tensorflow Gesture Rec/TFGR/Tensorflow/workspace/images/collectedimages/V\\V.0410e11a-9db0-11ee-a64c-d18594d139c0.xml\n",
      "Image:C:\\Users\\umair\\Tensorflow Gesture Rec\\TFGR\\Tensorflow\\workspace\\images\\collectedimages\\V\\V.05460b4a-9db0-11ee-b743-d18594d139c0.jpg -> Annotation:C:/Users/umair/Tensorflow Gesture Rec/TFGR/Tensorflow/workspace/images/collectedimages/V\\V.05460b4a-9db0-11ee-b743-d18594d139c0.xml\n",
      "Image:C:\\Users\\umair\\Tensorflow Gesture Rec\\TFGR\\Tensorflow\\workspace\\images\\collectedimages\\W\\W.1fdded53-9db0-11ee-b931-d18594d139c0.jpg -> Annotation:C:/Users/umair/Tensorflow Gesture Rec/TFGR/Tensorflow/workspace/images/collectedimages/W\\W.1fdded53-9db0-11ee-b931-d18594d139c0.xml\n",
      "Image:C:\\Users\\umair\\Tensorflow Gesture Rec\\TFGR\\Tensorflow\\workspace\\images\\collectedimages\\W\\W.24bcc844-9db0-11ee-bd66-d18594d139c0.jpg -> Annotation:C:/Users/umair/Tensorflow Gesture Rec/TFGR/Tensorflow/workspace/images/collectedimages/W\\W.24bcc844-9db0-11ee-bd66-d18594d139c0.xml\n",
      "Image:C:\\Users\\umair\\Tensorflow Gesture Rec\\TFGR\\Tensorflow\\workspace\\images\\collectedimages\\W\\W.25f083b1-9db0-11ee-9d18-d18594d139c0.jpg -> Annotation:C:/Users/umair/Tensorflow Gesture Rec/TFGR/Tensorflow/workspace/images/collectedimages/W\\W.25f083b1-9db0-11ee-9d18-d18594d139c0.xml\n",
      "Image:C:\\Users\\umair\\Tensorflow Gesture Rec\\TFGR\\Tensorflow\\workspace\\images\\collectedimages\\W\\W.224c0d36-9db0-11ee-8c60-d18594d139c0.jpg -> Annotation:C:/Users/umair/Tensorflow Gesture Rec/TFGR/Tensorflow/workspace/images/collectedimages/W\\W.224c0d36-9db0-11ee-8c60-d18594d139c0.xml\n",
      "Image:C:\\Users\\umair\\Tensorflow Gesture Rec\\TFGR\\Tensorflow\\workspace\\images\\collectedimages\\W\\W.23841ba0-9db0-11ee-80da-d18594d139c0.jpg -> Annotation:C:/Users/umair/Tensorflow Gesture Rec/TFGR/Tensorflow/workspace/images/collectedimages/W\\W.23841ba0-9db0-11ee-80da-d18594d139c0.xml\n",
      "Image:C:\\Users\\umair\\Tensorflow Gesture Rec\\TFGR\\Tensorflow\\workspace\\images\\collectedimages\\W\\W.27252b4f-9db0-11ee-b465-d18594d139c0.jpg -> Annotation:C:/Users/umair/Tensorflow Gesture Rec/TFGR/Tensorflow/workspace/images/collectedimages/W\\W.27252b4f-9db0-11ee-b465-d18594d139c0.xml\n",
      "Image:C:\\Users\\umair\\Tensorflow Gesture Rec\\TFGR\\Tensorflow\\workspace\\images\\collectedimages\\W\\W.2117804e-9db0-11ee-8c1c-d18594d139c0.jpg -> Annotation:C:/Users/umair/Tensorflow Gesture Rec/TFGR/Tensorflow/workspace/images/collectedimages/W\\W.2117804e-9db0-11ee-8c1c-d18594d139c0.xml\n",
      "Image:C:\\Users\\umair\\Tensorflow Gesture Rec\\TFGR\\Tensorflow\\workspace\\images\\collectedimages\\X\\X.3a3a8fb7-9db0-11ee-bf88-d18594d139c0.jpg -> Annotation:C:/Users/umair/Tensorflow Gesture Rec/TFGR/Tensorflow/workspace/images/collectedimages/X\\X.3a3a8fb7-9db0-11ee-bf88-d18594d139c0.xml\n",
      "Image:C:\\Users\\umair\\Tensorflow Gesture Rec\\TFGR\\Tensorflow\\workspace\\images\\collectedimages\\X\\X.3b70e7aa-9db0-11ee-8e19-d18594d139c0.jpg -> Annotation:C:/Users/umair/Tensorflow Gesture Rec/TFGR/Tensorflow/workspace/images/collectedimages/X\\X.3b70e7aa-9db0-11ee-8e19-d18594d139c0.xml\n",
      "Image:C:\\Users\\umair\\Tensorflow Gesture Rec\\TFGR\\Tensorflow\\workspace\\images\\collectedimages\\X\\X.3ca6002a-9db0-11ee-9606-d18594d139c0.jpg -> Annotation:C:/Users/umair/Tensorflow Gesture Rec/TFGR/Tensorflow/workspace/images/collectedimages/X\\X.3ca6002a-9db0-11ee-9606-d18594d139c0.xml\n",
      "Image:C:\\Users\\umair\\Tensorflow Gesture Rec\\TFGR\\Tensorflow\\workspace\\images\\collectedimages\\X\\X.37cfb02a-9db0-11ee-a609-d18594d139c0.jpg -> Annotation:C:/Users/umair/Tensorflow Gesture Rec/TFGR/Tensorflow/workspace/images/collectedimages/X\\X.37cfb02a-9db0-11ee-a609-d18594d139c0.xml\n",
      "Image:C:\\Users\\umair\\Tensorflow Gesture Rec\\TFGR\\Tensorflow\\workspace\\images\\collectedimages\\X\\X.3561fd93-9db0-11ee-97cd-d18594d139c0.jpg -> Annotation:C:/Users/umair/Tensorflow Gesture Rec/TFGR/Tensorflow/workspace/images/collectedimages/X\\X.3561fd93-9db0-11ee-97cd-d18594d139c0.xml\n",
      "Image:C:\\Users\\umair\\Tensorflow Gesture Rec\\TFGR\\Tensorflow\\workspace\\images\\collectedimages\\X\\X.3904d398-9db0-11ee-a847-d18594d139c0.jpg -> Annotation:C:/Users/umair/Tensorflow Gesture Rec/TFGR/Tensorflow/workspace/images/collectedimages/X\\X.3904d398-9db0-11ee-a847-d18594d139c0.xml\n",
      "Image:C:\\Users\\umair\\Tensorflow Gesture Rec\\TFGR\\Tensorflow\\workspace\\images\\collectedimages\\X\\X.36991ebc-9db0-11ee-9309-d18594d139c0.jpg -> Annotation:C:/Users/umair/Tensorflow Gesture Rec/TFGR/Tensorflow/workspace/images/collectedimages/X\\X.36991ebc-9db0-11ee-9309-d18594d139c0.xml\n",
      "Image:C:\\Users\\umair\\Tensorflow Gesture Rec\\TFGR\\Tensorflow\\workspace\\images\\collectedimages\\Y\\Y.6a0ff743-9db0-11ee-8ac3-d18594d139c0.jpg -> Annotation:C:/Users/umair/Tensorflow Gesture Rec/TFGR/Tensorflow/workspace/images/collectedimages/Y\\Y.6a0ff743-9db0-11ee-8ac3-d18594d139c0.xml\n",
      "Image:C:\\Users\\umair\\Tensorflow Gesture Rec\\TFGR\\Tensorflow\\workspace\\images\\collectedimages\\Y\\Y.6b45148e-9db0-11ee-91e8-d18594d139c0.jpg -> Annotation:C:/Users/umair/Tensorflow Gesture Rec/TFGR/Tensorflow/workspace/images/collectedimages/Y\\Y.6b45148e-9db0-11ee-91e8-d18594d139c0.xml\n",
      "Image:C:\\Users\\umair\\Tensorflow Gesture Rec\\TFGR\\Tensorflow\\workspace\\images\\collectedimages\\Y\\Y.67a35618-9db0-11ee-8769-d18594d139c0.jpg -> Annotation:C:/Users/umair/Tensorflow Gesture Rec/TFGR/Tensorflow/workspace/images/collectedimages/Y\\Y.67a35618-9db0-11ee-8769-d18594d139c0.xml\n",
      "Image:C:\\Users\\umair\\Tensorflow Gesture Rec\\TFGR\\Tensorflow\\workspace\\images\\collectedimages\\Y\\Y.68d90bb1-9db0-11ee-86ee-d18594d139c0.jpg -> Annotation:C:/Users/umair/Tensorflow Gesture Rec/TFGR/Tensorflow/workspace/images/collectedimages/Y\\Y.68d90bb1-9db0-11ee-86ee-d18594d139c0.xml\n",
      "Image:C:\\Users\\umair\\Tensorflow Gesture Rec\\TFGR\\Tensorflow\\workspace\\images\\collectedimages\\Y\\Y.666bff78-9db0-11ee-a897-d18594d139c0.jpg -> Annotation:C:/Users/umair/Tensorflow Gesture Rec/TFGR/Tensorflow/workspace/images/collectedimages/Y\\Y.666bff78-9db0-11ee-a897-d18594d139c0.xml\n",
      "Image:C:\\Users\\umair\\Tensorflow Gesture Rec\\TFGR\\Tensorflow\\workspace\\images\\collectedimages\\Y\\Y.640039e6-9db0-11ee-8a42-d18594d139c0.jpg -> Annotation:C:/Users/umair/Tensorflow Gesture Rec/TFGR/Tensorflow/workspace/images/collectedimages/Y\\Y.640039e6-9db0-11ee-8a42-d18594d139c0.xml\n",
      "Image:C:\\Users\\umair\\Tensorflow Gesture Rec\\TFGR\\Tensorflow\\workspace\\images\\collectedimages\\Y\\Y.6537173f-9db0-11ee-9f47-d18594d139c0.jpg -> Annotation:C:/Users/umair/Tensorflow Gesture Rec/TFGR/Tensorflow/workspace/images/collectedimages/Y\\Y.6537173f-9db0-11ee-9f47-d18594d139c0.xml\n",
      "Image:C:\\Users\\umair\\Tensorflow Gesture Rec\\TFGR\\Tensorflow\\workspace\\images\\collectedimages\\Z\\Z.8b0b16ac-9db0-11ee-9654-d18594d139c0.jpg -> Annotation:C:/Users/umair/Tensorflow Gesture Rec/TFGR/Tensorflow/workspace/images/collectedimages/Z\\Z.8b0b16ac-9db0-11ee-9654-d18594d139c0.xml\n",
      "Image:C:\\Users\\umair\\Tensorflow Gesture Rec\\TFGR\\Tensorflow\\workspace\\images\\collectedimages\\Z\\Z.8c41deb8-9db0-11ee-aa5e-d18594d139c0.jpg -> Annotation:C:/Users/umair/Tensorflow Gesture Rec/TFGR/Tensorflow/workspace/images/collectedimages/Z\\Z.8c41deb8-9db0-11ee-aa5e-d18594d139c0.xml\n",
      "Image:C:\\Users\\umair\\Tensorflow Gesture Rec\\TFGR\\Tensorflow\\workspace\\images\\collectedimages\\Z\\Z.84fd96e9-9db0-11ee-800e-d18594d139c0.jpg -> Annotation:C:/Users/umair/Tensorflow Gesture Rec/TFGR/Tensorflow/workspace/images/collectedimages/Z\\Z.84fd96e9-9db0-11ee-800e-d18594d139c0.xml\n",
      "Image:C:\\Users\\umair\\Tensorflow Gesture Rec\\TFGR\\Tensorflow\\workspace\\images\\collectedimages\\Z\\Z.88a07a75-9db0-11ee-8b4a-d18594d139c0.jpg -> Annotation:C:/Users/umair/Tensorflow Gesture Rec/TFGR/Tensorflow/workspace/images/collectedimages/Z\\Z.88a07a75-9db0-11ee-8b4a-d18594d139c0.xml\n",
      "Image:C:\\Users\\umair\\Tensorflow Gesture Rec\\TFGR\\Tensorflow\\workspace\\images\\collectedimages\\Z\\Z.89d6337d-9db0-11ee-bfea-d18594d139c0.jpg -> Annotation:C:/Users/umair/Tensorflow Gesture Rec/TFGR/Tensorflow/workspace/images/collectedimages/Z\\Z.89d6337d-9db0-11ee-bfea-d18594d139c0.xml\n",
      "Image:C:\\Users\\umair\\Tensorflow Gesture Rec\\TFGR\\Tensorflow\\workspace\\images\\collectedimages\\Z\\Z.876a4ea5-9db0-11ee-93c9-d18594d139c0.jpg -> Annotation:C:/Users/umair/Tensorflow Gesture Rec/TFGR/Tensorflow/workspace/images/collectedimages/Z\\Z.876a4ea5-9db0-11ee-93c9-d18594d139c0.xml\n",
      "Image:C:\\Users\\umair\\Tensorflow Gesture Rec\\TFGR\\Tensorflow\\workspace\\images\\collectedimages\\Z\\Z.8634704c-9db0-11ee-affa-d18594d139c0.jpg -> Annotation:C:/Users/umair/Tensorflow Gesture Rec/TFGR/Tensorflow/workspace/images/collectedimages/Z\\Z.8634704c-9db0-11ee-affa-d18594d139c0.xml\n",
      "Image:C:\\Users\\umair\\Tensorflow Gesture Rec\\TFGR\\Tensorflow\\workspace\\images\\collectedimages\\1\\1.6af7062b-9da8-11ee-9201-d18594d139c0.jpg -> Annotation:C:/Users/umair/Tensorflow Gesture Rec/TFGR/Tensorflow/workspace/images/collectedimages/1\\1.6af7062b-9da8-11ee-9201-d18594d139c0.xml\n",
      "Image:C:\\Users\\umair\\Tensorflow Gesture Rec\\TFGR\\Tensorflow\\workspace\\images\\collectedimages\\1\\1.6c34ec90-9da8-11ee-80e7-d18594d139c0.jpg -> Annotation:C:/Users/umair/Tensorflow Gesture Rec/TFGR/Tensorflow/workspace/images/collectedimages/1\\1.6c34ec90-9da8-11ee-80e7-d18594d139c0.xml\n",
      "Image:C:\\Users\\umair\\Tensorflow Gesture Rec\\TFGR\\Tensorflow\\workspace\\images\\collectedimages\\1\\1.6d761b67-9da8-11ee-a93a-d18594d139c0.jpg -> Annotation:C:/Users/umair/Tensorflow Gesture Rec/TFGR/Tensorflow/workspace/images/collectedimages/1\\1.6d761b67-9da8-11ee-a93a-d18594d139c0.xml\n",
      "Image:C:\\Users\\umair\\Tensorflow Gesture Rec\\TFGR\\Tensorflow\\workspace\\images\\collectedimages\\1\\1.6eb5e177-9da8-11ee-95b5-d18594d139c0.jpg -> Annotation:C:/Users/umair/Tensorflow Gesture Rec/TFGR/Tensorflow/workspace/images/collectedimages/1\\1.6eb5e177-9da8-11ee-95b5-d18594d139c0.xml\n",
      "Image:C:\\Users\\umair\\Tensorflow Gesture Rec\\TFGR\\Tensorflow\\workspace\\images\\collectedimages\\1\\1.6ff71347-9da8-11ee-8b47-d18594d139c0.jpg -> Annotation:C:/Users/umair/Tensorflow Gesture Rec/TFGR/Tensorflow/workspace/images/collectedimages/1\\1.6ff71347-9da8-11ee-8b47-d18594d139c0.xml\n",
      "Image:C:\\Users\\umair\\Tensorflow Gesture Rec\\TFGR\\Tensorflow\\workspace\\images\\collectedimages\\1\\1.71374203-9da8-11ee-a38f-d18594d139c0.jpg -> Annotation:C:/Users/umair/Tensorflow Gesture Rec/TFGR/Tensorflow/workspace/images/collectedimages/1\\1.71374203-9da8-11ee-a38f-d18594d139c0.xml\n",
      "Image:C:\\Users\\umair\\Tensorflow Gesture Rec\\TFGR\\Tensorflow\\workspace\\images\\collectedimages\\2\\2.7d142a5b-9da8-11ee-acea-d18594d139c0.jpg -> Annotation:C:/Users/umair/Tensorflow Gesture Rec/TFGR/Tensorflow/workspace/images/collectedimages/2\\2.7d142a5b-9da8-11ee-acea-d18594d139c0.xml\n",
      "Cancel creation.\n",
      "Image:C:\\Users\\umair\\Tensorflow Gesture Rec\\TFGR\\Tensorflow\\workspace\\images\\collectedimages\\2\\2.76d393a8-9da8-11ee-90bb-d18594d139c0.jpg -> Annotation:C:/Users/umair/Tensorflow Gesture Rec/TFGR/Tensorflow/workspace/images/collectedimages/2\\2.76d393a8-9da8-11ee-90bb-d18594d139c0.xml\n",
      "Image:C:\\Users\\umair\\Tensorflow Gesture Rec\\TFGR\\Tensorflow\\workspace\\images\\collectedimages\\2\\2.7953f456-9da8-11ee-8072-d18594d139c0.jpg -> Annotation:C:/Users/umair/Tensorflow Gesture Rec/TFGR/Tensorflow/workspace/images/collectedimages/2\\2.7953f456-9da8-11ee-8072-d18594d139c0.xml\n",
      "Image:C:\\Users\\umair\\Tensorflow Gesture Rec\\TFGR\\Tensorflow\\workspace\\images\\collectedimages\\2\\2.75927e11-9da8-11ee-a2c8-d18594d139c0.jpg -> Annotation:C:/Users/umair/Tensorflow Gesture Rec/TFGR/Tensorflow/workspace/images/collectedimages/2\\2.75927e11-9da8-11ee-a2c8-d18594d139c0.xml\n",
      "Image:C:\\Users\\umair\\Tensorflow Gesture Rec\\TFGR\\Tensorflow\\workspace\\images\\collectedimages\\2\\2.781232b9-9da8-11ee-87e0-d18594d139c0.jpg -> Annotation:C:/Users/umair/Tensorflow Gesture Rec/TFGR/Tensorflow/workspace/images/collectedimages/2\\2.781232b9-9da8-11ee-87e0-d18594d139c0.xml\n",
      "Image:C:\\Users\\umair\\Tensorflow Gesture Rec\\TFGR\\Tensorflow\\workspace\\images\\collectedimages\\3\\3.82ad6f80-9da8-11ee-bd61-d18594d139c0.jpg -> Annotation:C:/Users/umair/Tensorflow Gesture Rec/TFGR/Tensorflow/workspace/images/collectedimages/3\\3.82ad6f80-9da8-11ee-bd61-d18594d139c0.xml\n",
      "Image:C:\\Users\\umair\\Tensorflow Gesture Rec\\TFGR\\Tensorflow\\workspace\\images\\collectedimages\\3\\3.83e765da-9da8-11ee-a5ab-d18594d139c0.jpg -> Annotation:C:/Users/umair/Tensorflow Gesture Rec/TFGR/Tensorflow/workspace/images/collectedimages/3\\3.83e765da-9da8-11ee-a5ab-d18594d139c0.xml\n",
      "Image:C:\\Users\\umair\\Tensorflow Gesture Rec\\TFGR\\Tensorflow\\workspace\\images\\collectedimages\\3\\3.88de7d6a-9da8-11ee-af77-d18594d139c0.jpg -> Annotation:C:/Users/umair/Tensorflow Gesture Rec/TFGR/Tensorflow/workspace/images/collectedimages/3\\3.88de7d6a-9da8-11ee-af77-d18594d139c0.xml\n",
      "Image:C:\\Users\\umair\\Tensorflow Gesture Rec\\TFGR\\Tensorflow\\workspace\\images\\collectedimages\\3\\3.816caba4-9da8-11ee-92c7-d18594d139c0.jpg -> Annotation:C:/Users/umair/Tensorflow Gesture Rec/TFGR/Tensorflow/workspace/images/collectedimages/3\\3.816caba4-9da8-11ee-92c7-d18594d139c0.xml\n",
      "Image:C:\\Users\\umair\\Tensorflow Gesture Rec\\TFGR\\Tensorflow\\workspace\\images\\collectedimages\\3\\3.879d8843-9da8-11ee-b0ce-d18594d139c0.jpg -> Annotation:C:/Users/umair/Tensorflow Gesture Rec/TFGR/Tensorflow/workspace/images/collectedimages/3\\3.879d8843-9da8-11ee-b0ce-d18594d139c0.xml\n",
      "Image:C:\\Users\\umair\\Tensorflow Gesture Rec\\TFGR\\Tensorflow\\workspace\\images\\collectedimages\\3\\3.8523e85a-9da8-11ee-9059-d18594d139c0.jpg -> Annotation:C:/Users/umair/Tensorflow Gesture Rec/TFGR/Tensorflow/workspace/images/collectedimages/3\\3.8523e85a-9da8-11ee-9059-d18594d139c0.xml\n",
      "Image:C:\\Users\\umair\\Tensorflow Gesture Rec\\TFGR\\Tensorflow\\workspace\\images\\collectedimages\\3\\3.8662aa6d-9da8-11ee-a76e-d18594d139c0.jpg -> Annotation:C:/Users/umair/Tensorflow Gesture Rec/TFGR/Tensorflow/workspace/images/collectedimages/3\\3.8662aa6d-9da8-11ee-a76e-d18594d139c0.xml\n",
      "Image:C:\\Users\\umair\\Tensorflow Gesture Rec\\TFGR\\Tensorflow\\workspace\\images\\collectedimages\\4\\4.8d33ec62-9da8-11ee-b342-d18594d139c0.jpg -> Annotation:C:/Users/umair/Tensorflow Gesture Rec/TFGR/Tensorflow/workspace/images/collectedimages/4\\4.8d33ec62-9da8-11ee-b342-d18594d139c0.xml\n",
      "Image:C:\\Users\\umair\\Tensorflow Gesture Rec\\TFGR\\Tensorflow\\workspace\\images\\collectedimages\\4\\4.8e74b87a-9da8-11ee-b696-d18594d139c0.jpg -> Annotation:C:/Users/umair/Tensorflow Gesture Rec/TFGR/Tensorflow/workspace/images/collectedimages/4\\4.8e74b87a-9da8-11ee-b696-d18594d139c0.xml\n",
      "Image:C:\\Users\\umair\\Tensorflow Gesture Rec\\TFGR\\Tensorflow\\workspace\\images\\collectedimages\\4\\4.8fb32cb7-9da8-11ee-94b1-d18594d139c0.jpg -> Annotation:C:/Users/umair/Tensorflow Gesture Rec/TFGR/Tensorflow/workspace/images/collectedimages/4\\4.8fb32cb7-9da8-11ee-94b1-d18594d139c0.xml\n",
      "Image:C:\\Users\\umair\\Tensorflow Gesture Rec\\TFGR\\Tensorflow\\workspace\\images\\collectedimages\\4\\4.90f41680-9da8-11ee-b74a-d18594d139c0.jpg -> Annotation:C:/Users/umair/Tensorflow Gesture Rec/TFGR/Tensorflow/workspace/images/collectedimages/4\\4.90f41680-9da8-11ee-b74a-d18594d139c0.xml\n",
      "Image:C:\\Users\\umair\\Tensorflow Gesture Rec\\TFGR\\Tensorflow\\workspace\\images\\collectedimages\\4\\4.94abd49f-9da8-11ee-9177-d18594d139c0.jpg -> Annotation:C:/Users/umair/Tensorflow Gesture Rec/TFGR/Tensorflow/workspace/images/collectedimages/4\\4.94abd49f-9da8-11ee-9177-d18594d139c0.xml\n",
      "Image:C:\\Users\\umair\\Tensorflow Gesture Rec\\TFGR\\Tensorflow\\workspace\\images\\collectedimages\\4\\4.922e5335-9da8-11ee-8923-d18594d139c0.jpg -> Annotation:C:/Users/umair/Tensorflow Gesture Rec/TFGR/Tensorflow/workspace/images/collectedimages/4\\4.922e5335-9da8-11ee-8923-d18594d139c0.xml\n",
      "Image:C:\\Users\\umair\\Tensorflow Gesture Rec\\TFGR\\Tensorflow\\workspace\\images\\collectedimages\\4\\4.936be490-9da8-11ee-858d-d18594d139c0.jpg -> Annotation:C:/Users/umair/Tensorflow Gesture Rec/TFGR/Tensorflow/workspace/images/collectedimages/4\\4.936be490-9da8-11ee-858d-d18594d139c0.xml\n",
      "Image:C:\\Users\\umair\\Tensorflow Gesture Rec\\TFGR\\Tensorflow\\workspace\\images\\collectedimages\\5\\5.9a44ef40-9da8-11ee-8d7d-d18594d139c0.jpg -> Annotation:C:/Users/umair/Tensorflow Gesture Rec/TFGR/Tensorflow/workspace/images/collectedimages/5\\5.9a44ef40-9da8-11ee-8d7d-d18594d139c0.xml\n",
      "Image:C:\\Users\\umair\\Tensorflow Gesture Rec\\TFGR\\Tensorflow\\workspace\\images\\collectedimages\\5\\5.9b8111f7-9da8-11ee-b308-d18594d139c0.jpg -> Annotation:C:/Users/umair/Tensorflow Gesture Rec/TFGR/Tensorflow/workspace/images/collectedimages/5\\5.9b8111f7-9da8-11ee-b308-d18594d139c0.xml\n",
      "Image:C:\\Users\\umair\\Tensorflow Gesture Rec\\TFGR\\Tensorflow\\workspace\\images\\collectedimages\\5\\5.9cc037c6-9da8-11ee-aa97-d18594d139c0.jpg -> Annotation:C:/Users/umair/Tensorflow Gesture Rec/TFGR/Tensorflow/workspace/images/collectedimages/5\\5.9cc037c6-9da8-11ee-aa97-d18594d139c0.xml\n",
      "Image:C:\\Users\\umair\\Tensorflow Gesture Rec\\TFGR\\Tensorflow\\workspace\\images\\collectedimages\\5\\5.9dfe73c7-9da8-11ee-ab6d-d18594d139c0.jpg -> Annotation:C:/Users/umair/Tensorflow Gesture Rec/TFGR/Tensorflow/workspace/images/collectedimages/5\\5.9dfe73c7-9da8-11ee-ab6d-d18594d139c0.xml\n",
      "Image:C:\\Users\\umair\\Tensorflow Gesture Rec\\TFGR\\Tensorflow\\workspace\\images\\collectedimages\\5\\5.9f3d0edc-9da8-11ee-bea2-d18594d139c0.jpg -> Annotation:C:/Users/umair/Tensorflow Gesture Rec/TFGR/Tensorflow/workspace/images/collectedimages/5\\5.9f3d0edc-9da8-11ee-bea2-d18594d139c0.xml\n",
      "Image:C:\\Users\\umair\\Tensorflow Gesture Rec\\TFGR\\Tensorflow\\workspace\\images\\collectedimages\\5\\5.9904eb00-9da8-11ee-a192-d18594d139c0.jpg -> Annotation:C:/Users/umair/Tensorflow Gesture Rec/TFGR/Tensorflow/workspace/images/collectedimages/5\\5.9904eb00-9da8-11ee-a192-d18594d139c0.xml\n",
      "Image:C:\\Users\\umair\\Tensorflow Gesture Rec\\TFGR\\Tensorflow\\workspace\\images\\collectedimages\\5\\5.a07d414f-9da8-11ee-a9af-d18594d139c0.jpg -> Annotation:C:/Users/umair/Tensorflow Gesture Rec/TFGR/Tensorflow/workspace/images/collectedimages/5\\5.a07d414f-9da8-11ee-a9af-d18594d139c0.xml\n",
      "Image:C:\\Users\\umair\\Tensorflow Gesture Rec\\TFGR\\Tensorflow\\workspace\\images\\collectedimages\\6\\6.a4d45f1e-9da8-11ee-abc3-d18594d139c0.jpg -> Annotation:C:/Users/umair/Tensorflow Gesture Rec/TFGR/Tensorflow/workspace/images/collectedimages/6\\6.a4d45f1e-9da8-11ee-abc3-d18594d139c0.xml\n",
      "Image:C:\\Users\\umair\\Tensorflow Gesture Rec\\TFGR\\Tensorflow\\workspace\\images\\collectedimages\\6\\6.a9d1f7ec-9da8-11ee-bdc4-d18594d139c0.jpg -> Annotation:C:/Users/umair/Tensorflow Gesture Rec/TFGR/Tensorflow/workspace/images/collectedimages/6\\6.a9d1f7ec-9da8-11ee-bdc4-d18594d139c0.xml\n",
      "Image:C:\\Users\\umair\\Tensorflow Gesture Rec\\TFGR\\Tensorflow\\workspace\\images\\collectedimages\\6\\6.a615c771-9da8-11ee-8d96-d18594d139c0.jpg -> Annotation:C:/Users/umair/Tensorflow Gesture Rec/TFGR/Tensorflow/workspace/images/collectedimages/6\\6.a615c771-9da8-11ee-8d96-d18594d139c0.xml\n",
      "Image:C:\\Users\\umair\\Tensorflow Gesture Rec\\TFGR\\Tensorflow\\workspace\\images\\collectedimages\\6\\6.a75696d1-9da8-11ee-a15b-d18594d139c0.jpg -> Annotation:C:/Users/umair/Tensorflow Gesture Rec/TFGR/Tensorflow/workspace/images/collectedimages/6\\6.a75696d1-9da8-11ee-a15b-d18594d139c0.xml\n",
      "Image:C:\\Users\\umair\\Tensorflow Gesture Rec\\TFGR\\Tensorflow\\workspace\\images\\collectedimages\\6\\6.a89492d3-9da8-11ee-ba85-d18594d139c0.jpg -> Annotation:C:/Users/umair/Tensorflow Gesture Rec/TFGR/Tensorflow/workspace/images/collectedimages/6\\6.a89492d3-9da8-11ee-ba85-d18594d139c0.xml\n",
      "Image:C:\\Users\\umair\\Tensorflow Gesture Rec\\TFGR\\Tensorflow\\workspace\\images\\collectedimages\\6\\6.ab10da15-9da8-11ee-aff4-d18594d139c0.jpg -> Annotation:C:/Users/umair/Tensorflow Gesture Rec/TFGR/Tensorflow/workspace/images/collectedimages/6\\6.ab10da15-9da8-11ee-aff4-d18594d139c0.xml\n",
      "Image:C:\\Users\\umair\\Tensorflow Gesture Rec\\TFGR\\Tensorflow\\workspace\\images\\collectedimages\\6\\6.ac50db6a-9da8-11ee-ba04-d18594d139c0.jpg -> Annotation:C:/Users/umair/Tensorflow Gesture Rec/TFGR/Tensorflow/workspace/images/collectedimages/6\\6.ac50db6a-9da8-11ee-ba04-d18594d139c0.xml\n",
      "Image:C:\\Users\\umair\\Tensorflow Gesture Rec\\TFGR\\Tensorflow\\workspace\\images\\collectedimages\\7\\7.b0a4cddc-9da8-11ee-86c6-d18594d139c0.jpg -> Annotation:C:/Users/umair/Tensorflow Gesture Rec/TFGR/Tensorflow/workspace/images/collectedimages/7\\7.b0a4cddc-9da8-11ee-86c6-d18594d139c0.xml\n",
      "Image:C:\\Users\\umair\\Tensorflow Gesture Rec\\TFGR\\Tensorflow\\workspace\\images\\collectedimages\\7\\7.b1e49842-9da8-11ee-a6bd-d18594d139c0.jpg -> Annotation:C:/Users/umair/Tensorflow Gesture Rec/TFGR/Tensorflow/workspace/images/collectedimages/7\\7.b1e49842-9da8-11ee-a6bd-d18594d139c0.xml\n",
      "Image:C:\\Users\\umair\\Tensorflow Gesture Rec\\TFGR\\Tensorflow\\workspace\\images\\collectedimages\\7\\7.b5a0b396-9da8-11ee-91d4-d18594d139c0.jpg -> Annotation:C:/Users/umair/Tensorflow Gesture Rec/TFGR/Tensorflow/workspace/images/collectedimages/7\\7.b5a0b396-9da8-11ee-91d4-d18594d139c0.xml\n",
      "Image:C:\\Users\\umair\\Tensorflow Gesture Rec\\TFGR\\Tensorflow\\workspace\\images\\collectedimages\\7\\7.b6e0f0e5-9da8-11ee-b280-d18594d139c0.jpg -> Annotation:C:/Users/umair/Tensorflow Gesture Rec/TFGR/Tensorflow/workspace/images/collectedimages/7\\7.b6e0f0e5-9da8-11ee-b280-d18594d139c0.xml\n",
      "Image:C:\\Users\\umair\\Tensorflow Gesture Rec\\TFGR\\Tensorflow\\workspace\\images\\collectedimages\\7\\7.b31f0ab2-9da8-11ee-8c8b-d18594d139c0.jpg -> Annotation:C:/Users/umair/Tensorflow Gesture Rec/TFGR/Tensorflow/workspace/images/collectedimages/7\\7.b31f0ab2-9da8-11ee-8c8b-d18594d139c0.xml\n",
      "Image:C:\\Users\\umair\\Tensorflow Gesture Rec\\TFGR\\Tensorflow\\workspace\\images\\collectedimages\\7\\7.b81e1649-9da8-11ee-bca2-d18594d139c0.jpg -> Annotation:C:/Users/umair/Tensorflow Gesture Rec/TFGR/Tensorflow/workspace/images/collectedimages/7\\7.b81e1649-9da8-11ee-bca2-d18594d139c0.xml\n",
      "Image:C:\\Users\\umair\\Tensorflow Gesture Rec\\TFGR\\Tensorflow\\workspace\\images\\collectedimages\\7\\7.b4600bf5-9da8-11ee-a82f-d18594d139c0.jpg -> Annotation:C:/Users/umair/Tensorflow Gesture Rec/TFGR/Tensorflow/workspace/images/collectedimages/7\\7.b4600bf5-9da8-11ee-a82f-d18594d139c0.xml\n",
      "Image:C:\\Users\\umair\\Tensorflow Gesture Rec\\TFGR\\Tensorflow\\workspace\\images\\collectedimages\\8\\8.bc74a4d8-9da8-11ee-a656-d18594d139c0.jpg -> Annotation:C:/Users/umair/Tensorflow Gesture Rec/TFGR/Tensorflow/workspace/images/collectedimages/8\\8.bc74a4d8-9da8-11ee-a656-d18594d139c0.xml\n",
      "Image:C:\\Users\\umair\\Tensorflow Gesture Rec\\TFGR\\Tensorflow\\workspace\\images\\collectedimages\\8\\8.bdb5bfb6-9da8-11ee-8d41-d18594d139c0.jpg -> Annotation:C:/Users/umair/Tensorflow Gesture Rec/TFGR/Tensorflow/workspace/images/collectedimages/8\\8.bdb5bfb6-9da8-11ee-8d41-d18594d139c0.xml\n",
      "Image:C:\\Users\\umair\\Tensorflow Gesture Rec\\TFGR\\Tensorflow\\workspace\\images\\collectedimages\\8\\8.bef58dd5-9da8-11ee-b8ef-d18594d139c0.jpg -> Annotation:C:/Users/umair/Tensorflow Gesture Rec/TFGR/Tensorflow/workspace/images/collectedimages/8\\8.bef58dd5-9da8-11ee-b8ef-d18594d139c0.xml\n",
      "Image:C:\\Users\\umair\\Tensorflow Gesture Rec\\TFGR\\Tensorflow\\workspace\\images\\collectedimages\\8\\8.c2b15611-9da8-11ee-ac42-d18594d139c0.jpg -> Annotation:C:/Users/umair/Tensorflow Gesture Rec/TFGR/Tensorflow/workspace/images/collectedimages/8\\8.c2b15611-9da8-11ee-ac42-d18594d139c0.xml\n",
      "Image:C:\\Users\\umair\\Tensorflow Gesture Rec\\TFGR\\Tensorflow\\workspace\\images\\collectedimages\\8\\8.c3f15e00-9da8-11ee-8337-d18594d139c0.jpg -> Annotation:C:/Users/umair/Tensorflow Gesture Rec/TFGR/Tensorflow/workspace/images/collectedimages/8\\8.c3f15e00-9da8-11ee-8337-d18594d139c0.xml\n",
      "Image:C:\\Users\\umair\\Tensorflow Gesture Rec\\TFGR\\Tensorflow\\workspace\\images\\collectedimages\\8\\8.c034c557-9da8-11ee-b298-d18594d139c0.jpg -> Annotation:C:/Users/umair/Tensorflow Gesture Rec/TFGR/Tensorflow/workspace/images/collectedimages/8\\8.c034c557-9da8-11ee-b298-d18594d139c0.xml\n",
      "Image:C:\\Users\\umair\\Tensorflow Gesture Rec\\TFGR\\Tensorflow\\workspace\\images\\collectedimages\\8\\8.c1721239-9da8-11ee-b603-d18594d139c0.jpg -> Annotation:C:/Users/umair/Tensorflow Gesture Rec/TFGR/Tensorflow/workspace/images/collectedimages/8\\8.c1721239-9da8-11ee-b603-d18594d139c0.xml\n",
      "Image:C:\\Users\\umair\\Tensorflow Gesture Rec\\TFGR\\Tensorflow\\workspace\\images\\collectedimages\\9\\9.c846554a-9da8-11ee-bc4b-d18594d139c0.jpg -> Annotation:C:/Users/umair/Tensorflow Gesture Rec/TFGR/Tensorflow/workspace/images/collectedimages/9\\9.c846554a-9da8-11ee-bc4b-d18594d139c0.xml\n",
      "Image:C:\\Users\\umair\\Tensorflow Gesture Rec\\TFGR\\Tensorflow\\workspace\\images\\collectedimages\\9\\9.c9860466-9da8-11ee-95a8-d18594d139c0.jpg -> Annotation:C:/Users/umair/Tensorflow Gesture Rec/TFGR/Tensorflow/workspace/images/collectedimages/9\\9.c9860466-9da8-11ee-95a8-d18594d139c0.xml\n",
      "Image:C:\\Users\\umair\\Tensorflow Gesture Rec\\TFGR\\Tensorflow\\workspace\\images\\collectedimages\\9\\9.c9860466-9da8-11ee-95a8-d18594d139c0.jpg -> Annotation:C:/Users/umair/Tensorflow Gesture Rec/TFGR/Tensorflow/workspace/images/collectedimages/9\\9.c9860466-9da8-11ee-95a8-d18594d139c0.xml\n",
      "Image:C:\\Users\\umair\\Tensorflow Gesture Rec\\TFGR\\Tensorflow\\workspace\\images\\collectedimages\\9\\9.cac1eaf0-9da8-11ee-aa3e-d18594d139c0.jpg -> Annotation:C:/Users/umair/Tensorflow Gesture Rec/TFGR/Tensorflow/workspace/images/collectedimages/9\\9.cac1eaf0-9da8-11ee-aa3e-d18594d139c0.xml\n",
      "Image:C:\\Users\\umair\\Tensorflow Gesture Rec\\TFGR\\Tensorflow\\workspace\\images\\collectedimages\\9\\9.cc023c33-9da8-11ee-bbd3-d18594d139c0.jpg -> Annotation:C:/Users/umair/Tensorflow Gesture Rec/TFGR/Tensorflow/workspace/images/collectedimages/9\\9.cc023c33-9da8-11ee-bbd3-d18594d139c0.xml\n",
      "Image:C:\\Users\\umair\\Tensorflow Gesture Rec\\TFGR\\Tensorflow\\workspace\\images\\collectedimages\\9\\9.cd42c463-9da8-11ee-8c1c-d18594d139c0.jpg -> Annotation:C:/Users/umair/Tensorflow Gesture Rec/TFGR/Tensorflow/workspace/images/collectedimages/9\\9.cd42c463-9da8-11ee-8c1c-d18594d139c0.xml\n",
      "Image:C:\\Users\\umair\\Tensorflow Gesture Rec\\TFGR\\Tensorflow\\workspace\\images\\collectedimages\\9\\9.ce83d278-9da8-11ee-b1d2-d18594d139c0.jpg -> Annotation:C:/Users/umair/Tensorflow Gesture Rec/TFGR/Tensorflow/workspace/images/collectedimages/9\\9.ce83d278-9da8-11ee-b1d2-d18594d139c0.xml\n",
      "Image:C:\\Users\\umair\\Tensorflow Gesture Rec\\TFGR\\Tensorflow\\workspace\\images\\collectedimages\\9\\9.cfc2acd8-9da8-11ee-8a23-d18594d139c0.jpg -> Annotation:C:/Users/umair/Tensorflow Gesture Rec/TFGR/Tensorflow/workspace/images/collectedimages/9\\9.cfc2acd8-9da8-11ee-8a23-d18594d139c0.xml\n"
     ]
    },
    {
     "name": "stderr",
     "output_type": "stream",
     "text": [
      "QAction::event: Ambiguous shortcut overload: Ctrl+Shift+S\n"
     ]
    }
   ],
   "source": [
    "!cd {LABELIMG_PATH} && python labelImg.py"
   ]
  },
  {
   "cell_type": "markdown",
   "metadata": {},
   "source": [
    "# 6. Move them into a Training and Testing Partition"
   ]
  },
  {
   "cell_type": "markdown",
   "metadata": {},
   "source": [
    "# OPTIONAL - 7. Compress them for Colab Training"
   ]
  },
  {
   "cell_type": "code",
   "execution_count": 20,
   "metadata": {},
   "outputs": [],
   "source": [
    "TRAIN_PATH = os.path.join('Tensorflow', 'workspace', 'images', 'train')\n",
    "TEST_PATH = os.path.join('Tensorflow', 'workspace', 'images', 'test')\n",
    "ARCHIVE_PATH = os.path.join('Tensorflow', 'workspace', 'images', 'archive.tar.gz')"
   ]
  },
  {
   "cell_type": "code",
   "execution_count": 21,
   "metadata": {},
   "outputs": [],
   "source": [
    "!tar -czf {ARCHIVE_PATH} {TRAIN_PATH} {TEST_PATH}"
   ]
  },
  {
   "cell_type": "code",
   "execution_count": null,
   "metadata": {},
   "outputs": [],
   "source": []
  }
 ],
 "metadata": {
  "kernelspec": {
   "display_name": "tfgr",
   "language": "python",
   "name": "tfgr"
  },
  "language_info": {
   "codemirror_mode": {
    "name": "ipython",
    "version": 3
   },
   "file_extension": ".py",
   "mimetype": "text/x-python",
   "name": "python",
   "nbconvert_exporter": "python",
   "pygments_lexer": "ipython3",
   "version": "3.9.10"
  }
 },
 "nbformat": 4,
 "nbformat_minor": 2
}
